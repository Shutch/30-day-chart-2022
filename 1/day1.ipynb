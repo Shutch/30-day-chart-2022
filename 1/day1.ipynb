{
 "cells": [
  {
   "cell_type": "markdown",
   "id": "839e7e69-8a43-48d6-9bf0-d06825c6dd1d",
   "metadata": {},
   "source": [
    "# Day 1 - Comparisons: Part-to-whole\n",
    "\n",
    "Lately I've been playing Tradle, a game similar to Worldle but instead of country silhouettes it uses a treemap of the country's exports, as well as a total annual export value in USD. Tradle uses OEC (Observatory of Economic Complexity) data as a source.\n",
    "\n",
    "I'll be recreating that treemap for Guam."
   ]
  },
  {
   "cell_type": "markdown",
   "id": "36937997-480d-468f-89f8-738772170480",
   "metadata": {},
   "source": [
    "## Data Source\n",
    "The OEC website has a web-based visualizer and luckily Guam is considered a sovereign country by OEC so it has its own data separate from the United States. An example treemap of Guam can be found [here](https://oec.world/en/visualize/tree_map/hs92/export/gum/all/show/2020/).\n",
    "\n",
    "However it seems like a premium account is needed to download the data used to create the treemap. The source of the data is listed as 'HS6 REV. 1992 (1995 - 2020)' which leads to a database called BACI, maintained by the French economic think tank CEPII. This database uses Comtrade data from the UN, but performs some data cleaning described [here](http://www.cepii.fr/PDF_PUB/wp_nts/2010/wp2010-23.pdf).\n",
    "\n",
    "## Harmonized System\n",
    "The data is available in several categorizations of the Harmonized System (HS). HS was developed by the World Customs Organization to break down trade goods into several levels of categories in order to standardize international trade statistics. There have been several changes to the HS categories every several years and the BACI data is available in HS92, HS96, HS02, HS07, HS12, and HS17 categorizations. The categories become more numerous and complex with each subsequent change, and viewing the data in the OEC visualizer shows that Tradle uses HS92 and it provides plenty of detail and categories, so I will move forward with that dataset.\n",
    "\n",
    "## BACI Data\n",
    "The full 2022 HS92 BACI database was a 2.1GB ZIP file of CSV files which I won't include in this repository. I will include my cleaned CSV file that only include Guam's imports and exports and the simple script I used to create that file.\n",
    "\n",
    "In order to process the data, Guam's country code and the HS97 product codes must be known. These can be found on the UN website.\n",
    "\n",
    "* [Country Codes](https://comtrade.un.org/data/cache/partnerAreas.json)\n",
    "* [Product Codes](https://comtrade.un.org/data/cache/classificationH0.json)\n",
    "\n",
    "Both files are included in the day 1 folder.\n",
    "\n",
    "The structure of the CSV file is 6 columns representing the year, exporter, importer, product, value, and quantity. Each line represents a yearly total of a single HS92 category from a single exporter to a single importer. The 2020 HS92 file has 10,031,112 rows.\n",
    "\n",
    "## Data Structure\n",
    "Here are the first 10 lines of the 2020 HS92 BACI CSV file:\n",
    "```\n",
    "\n",
    "2020,4,32,391000,       0.044,        0.009\n",
    "2020,4,32,401010,       0.164,           NA\n",
    "2020,4,32,610120,       0.012,        0.003\n",
    "2020,4,36,071120,       0.718,        0.308\n",
    "2020,4,36,071290,       0.665,        0.500\n",
    "2020,4,36,080211,       2.377,        0.710\n",
    "2020,4,36,080420,       1.342,        1.331\n",
    "2020,4,36,080620,     523.628,      326.501\n",
    "```\n",
    "\n",
    "Here is an example country from the `partnerAreas.json`\n",
    "```\n",
    "        {\n",
    "            \"id\": \"316\",\n",
    "            \"text\": \"Guam\"\n",
    "        },\n",
    "```\n",
    "\n",
    "Here is an example heirarchy of product codes from the `classificationH0.json`\n",
    "```\n",
    "\t{\n",
    "\t\t\"id\": \"01\",\n",
    "\t\t\"text\": \"01 - Animals; live\",\n",
    "\t\t\"parent\": \"TOTAL\"\n",
    "\t},\n",
    "\t{\n",
    "\t\t\"id\": \"0101\",\n",
    "\t\t\"text\": \"0101 - Horses, asses, mules and hinnies; live\",\n",
    "\t\t\"parent\": \"01\"\n",
    "\t},\n",
    "\t{\n",
    "\t\t\"id\": \"010111\",\n",
    "\t\t\"text\": \"010111 - Horses; live, pure-bred breeding animals\",\n",
    "\t\t\"parent\": \"0101\"\n",
    "\t},\n",
    "```"
   ]
  },
  {
   "cell_type": "raw",
   "id": "5fd48785-dafe-411b-914c-9153c0751872",
   "metadata": {},
   "source": [
    "# This script is included in this notebook as a 'raw' block only for reference\n",
    "\n",
    "# Creating a csv file containing only the imports and exports involving Guam\n",
    "# Guam's country code is 316\n",
    "\n",
    "# The input file is located in a data/ folder within the project's root directory.\n",
    "# The output file is output to the current folder.\n",
    "# Due to its size, the input file is not included in the Github repository.\n",
    "\n",
    "import csv\n",
    "import os\n",
    "\n",
    "input_filename = \"../data/BACI_HS92_Y2020_V202201.csv\"\n",
    "output_filename = \"guam_import_export_2020_HS92.csv\"\n",
    "country_code = \"316\"  # should be a string, not int\n",
    "    \n",
    "if not os.path.exists(input_filename):\n",
    "    raise FileNotFoundError(f\"Input file {input_filename} does not exist\")\n",
    "    \n",
    "with open(input_filename, 'r') as infile:\n",
    "    with open(output_filename, 'w') as outfile:\n",
    "        reader = csv.reader(infile)\n",
    "        writer = csv.writer(outfile)\n",
    "        # skip header row\n",
    "        _ = reader.__next__()\n",
    "    \n",
    "        for row in reader:\n",
    "            # All fields are read as strings and many contain excess whitespace\n",
    "            row = [field.strip() for field in row]\n",
    "            if row[1] == country_code or row[2] == country_code:\n",
    "                writer.writerow(row)"
   ]
  },
  {
   "cell_type": "markdown",
   "id": "aaae5130-2ecd-4616-bdcd-2713185fb70b",
   "metadata": {},
   "source": [
    "## Creating the Treemap\n",
    "\n",
    "### Imports vs Exports\n",
    "\n",
    "The first task is to determine imports vs exports. A single boolean column is used for now, and the importer and exporter columns are no longer needed, so they are deleted. The year and quantity column also aren't necessary so they are removed."
   ]
  },
  {
   "cell_type": "code",
   "execution_count": 159,
   "id": "844fa137-0c01-45ac-a650-24fbcb028915",
   "metadata": {},
   "outputs": [
    {
     "name": "stdout",
     "output_type": "stream",
     "text": [
      "     product    value  guam_export\n",
      "0     030614    4.543        False\n",
      "1     040110   21.787        False\n",
      "2     040120  946.177        False\n",
      "3     040299   11.537        False\n",
      "4     080290   97.954        False\n",
      "...      ...      ...          ...\n",
      "5520  940540   13.613        False\n",
      "5521  950390    3.426        False\n",
      "5522  950590    2.048        False\n",
      "5523  950691    5.249        False\n",
      "5524  950699    5.345        False\n",
      "\n",
      "[5525 rows x 3 columns]\n",
      "product         object\n",
      "value          float64\n",
      "guam_export       bool\n",
      "dtype: object\n"
     ]
    }
   ],
   "source": [
    "import pandas as pd\n",
    "\n",
    "trade_filename = \"guam_import_export_2020_HS92.csv\"\n",
    "country_code_filename = \"partnerAreas.json\"\n",
    "product_code_filename = \"classificationH0.json\"\n",
    "guam_code = 316\n",
    "\n",
    "df = pd.read_csv(trade_filename, names=[\"year\", \"exporter\", \"importer\", \"product\", \"value\", \"quantity\"], dtype=str)\n",
    "\n",
    "df['guam_export'] = (df['exporter'] == \"316\")\n",
    "df = df.drop(['exporter', 'importer', 'year', 'quantity'], axis=1)\n",
    "df['value'] = df['value'].astype(float)\n",
    "\n",
    "print(df)\n",
    "print(df.dtypes)"
   ]
  },
  {
   "cell_type": "markdown",
   "id": "10970090-ff8f-463c-9aa4-5f69a259e3c9",
   "metadata": {},
   "source": [
    "### Rolling Up Country Imports/Exports by Product Code\n",
    "\n",
    "The treemap won't distinguish between which country Guam is importing from or exporting to, so imports and exports should be rolled up into one product code for import/export and the country code removed."
   ]
  },
  {
   "cell_type": "code",
   "execution_count": 160,
   "id": "5d20a16c-b65e-4fcf-9c27-9fdc7605da27",
   "metadata": {},
   "outputs": [
    {
     "name": "stdout",
     "output_type": "stream",
     "text": [
      "     product  guam_export     value\n",
      "0     010600         True     0.939\n",
      "1     020230        False   963.353\n",
      "2     020319        False   496.085\n",
      "3     020322        False    58.739\n",
      "4     020329        False  1707.156\n",
      "...      ...          ...       ...\n",
      "2153  961620        False     1.410\n",
      "2154  961700        False     8.552\n",
      "2155  961800        False     4.768\n",
      "2156  970110        False     0.057\n",
      "2157  970400         True     0.420\n",
      "\n",
      "[2158 rows x 3 columns]\n"
     ]
    }
   ],
   "source": [
    "grouped = df.groupby([\"product\", \"guam_export\"], as_index=False)\n",
    "df = grouped.sum()\n",
    "\n",
    "print(df)"
   ]
  },
  {
   "cell_type": "markdown",
   "id": "c31559aa-0a96-4760-81f9-615948396fb6",
   "metadata": {},
   "source": [
    "### Rolling Up Product Codes by Parent\n",
    "\n",
    "The lowest level product codes are too fine-grained for a useful chart so the data will be grouped by the mid-level (4 digit) product codes with a column for the parent code (2 digit). This is similar to Tradle's display. In a 6 digit code, the top level is the first two digits, and the mid-level is the middle two digits."
   ]
  },
  {
   "cell_type": "code",
   "execution_count": 161,
   "id": "526ac665-f608-435f-8781-53febf02f860",
   "metadata": {},
   "outputs": [
    {
     "name": "stdout",
     "output_type": "stream",
     "text": [
      "    product  guam_export     value parent\n",
      "0      0106         True     0.939     01\n",
      "1      0202        False   963.353     02\n",
      "2      0203        False  2261.980     02\n",
      "3      0204        False    30.931     02\n",
      "4      0206        False   179.595     02\n",
      "..      ...          ...       ...    ...\n",
      "923    9616        False     1.410     96\n",
      "924    9617        False     8.552     96\n",
      "925    9618        False     4.768     96\n",
      "926    9701        False     0.057     97\n",
      "927    9704         True     0.420     97\n",
      "\n",
      "[928 rows x 4 columns]\n",
      "    product  guam_export     value parent\n",
      "109    1905        False  5060.103     19\n",
      "110    1905         True     7.776     19\n"
     ]
    }
   ],
   "source": [
    "df['product'] = df['product'].apply(lambda x: x[:4])\n",
    "\n",
    "grouped = df.groupby([\"product\", \"guam_export\"], as_index=False)\n",
    "df = grouped.sum()\n",
    "\n",
    "df['parent'] = df['product'].apply(lambda x: x[:2])\n",
    "\n",
    "print(df)\n",
    "print(df[df['product'] == \"1905\"])"
   ]
  },
  {
   "cell_type": "markdown",
   "id": "898f1081-3221-4627-95c9-5554de16a397",
   "metadata": {},
   "source": [
    "### Swapping product and parent codes with descriptions\n",
    "\n",
    "Now the numeric HS codes which are stored as strings can be swapped with their full descriptions."
   ]
  },
  {
   "cell_type": "code",
   "execution_count": 162,
   "id": "3c576f19-ae09-47d9-9792-afcab5bb6c78",
   "metadata": {},
   "outputs": [
    {
     "name": "stdout",
     "output_type": "stream",
     "text": [
      "                                               product  guam_export     value  \\\n",
      "0                        Animals, n.e.s. in chapter 01         True     0.939   \n",
      "1                               Meat of bovine animals        False   963.353   \n",
      "2                                        Meat of swine        False  2261.980   \n",
      "3                               Meat of sheep or goats        False    30.931   \n",
      "4    Edible offal of bovine animals, swine, sheep, ...        False   179.595   \n",
      "..                                                 ...          ...       ...   \n",
      "923  Scent sprays and similar toilet sprays and mou...        False     1.410   \n",
      "924  Vacuum flasks and other vacuum vessels, comple...        False     8.552   \n",
      "925             Tailors' dummies and other lay figures        False     4.768   \n",
      "926  Paintings, drawings, pastels, executed entirel...        False     0.057   \n",
      "927                         Stamps, postage or revenue         True     0.420   \n",
      "\n",
      "                                  parent  \n",
      "0                                Animals  \n",
      "1             Meat and edible meat offal  \n",
      "2             Meat and edible meat offal  \n",
      "3             Meat and edible meat offal  \n",
      "4             Meat and edible meat offal  \n",
      "..                                   ...  \n",
      "923  Miscellaneous manufactured articles  \n",
      "924  Miscellaneous manufactured articles  \n",
      "925  Miscellaneous manufactured articles  \n",
      "926                         Works of art  \n",
      "927                         Works of art  \n",
      "\n",
      "[928 rows x 4 columns]\n"
     ]
    }
   ],
   "source": [
    "import json\n",
    "\n",
    "with open(product_code_filename, 'r') as f:\n",
    "    product_codes = json.load(f)\n",
    "    \n",
    "text_map = {}\n",
    "for product in product_codes['results']:\n",
    "    # The product code is repeated in the beginning of the description, split removes that.\n",
    "    # Example description: \"0101 - Horses, asses, mules and hinnies; live\"\n",
    "    description = product[\"text\"].split(\" - \", maxsplit=1)[1]\n",
    "    description = description.split(\";\", maxsplit=1)[0]\n",
    "    text_map[product[\"id\"]] = description\n",
    "\n",
    "df['parent'] = df['parent'].replace(text_map)\n",
    "df['product'] = df['product'].replace(text_map)\n",
    "\n",
    "print(df)"
   ]
  },
  {
   "cell_type": "markdown",
   "id": "0c0449a4-7c98-4190-8827-cba07454a7a7",
   "metadata": {},
   "source": [
    "### Sorting and Limiting Data\n",
    "\n",
    "The data needs to be split into both imports and exports based on the previously made boolean column and then the product and parent columns can be used for the treemap heirarchy and the value column will determine the size.\n",
    "\n",
    "Also, the values will be sorted by descending value, and only the top values will be kept for plotting."
   ]
  },
  {
   "cell_type": "code",
   "execution_count": 163,
   "id": "b6f3f243-3d5e-4766-bdeb-c4b8ec3a40ef",
   "metadata": {},
   "outputs": [],
   "source": [
    "maximum_products = 20\n",
    "\n",
    "# split the dataframe into 2 dataframes, imports and exports.\n",
    "# Only include top 100 values\n",
    "import_df = df[(df['guam_export'] == False)]\n",
    "total_imports_M = int(import_df['value'].sum() // 1E3)\n",
    "import_df = import_df.nlargest(maximum_products, 'value')\n",
    "\n",
    "export_df = df[(df['guam_export'] == True)]\n",
    "total_exports_M = int(export_df['value'].sum() // 1E3)\n",
    "export_df = export_df.nlargest(maximum_products, 'value')"
   ]
  },
  {
   "cell_type": "code",
   "execution_count": 164,
   "id": "3d16b209-b57f-483a-934b-aa6796cdf63a",
   "metadata": {},
   "outputs": [
    {
     "name": "stderr",
     "output_type": "stream",
     "text": [
      "/home/koalefant/.local/share/virtualenvs/30-day-chart-2022-OzY2epYN/lib/python3.10/site-packages/plotly/express/_core.py:1637: FutureWarning:\n",
      "\n",
      "The frame.append method is deprecated and will be removed from pandas in a future version. Use pandas.concat instead.\n",
      "\n",
      "/home/koalefant/.local/share/virtualenvs/30-day-chart-2022-OzY2epYN/lib/python3.10/site-packages/plotly/express/_core.py:1637: FutureWarning:\n",
      "\n",
      "The frame.append method is deprecated and will be removed from pandas in a future version. Use pandas.concat instead.\n",
      "\n"
     ]
    },
    {
     "data": {
      "application/vnd.plotly.v1+json": {
       "config": {
        "plotlyServerURL": "https://plot.ly"
       },
       "data": [
        {
         "branchvalues": "total",
         "domain": {
          "x": [
           0,
           1
          ],
          "y": [
           0,
           1
          ]
         },
         "hovertemplate": "labels=%{label}<br>value=%{value}<br>parent=%{parent}<br>id=%{id}<extra></extra>",
         "ids": [
          "Aluminium and articles thereof/Aluminium",
          "Preparations of cereals, flour, starch or milk/Bread, pastry, cakes, biscuits, other bakers' wares, whether or not containing cocoa",
          "Nuclear reactors, boilers, machinery and mechanical appliances/Bulldozers, graders, levellers, scrapers, angledozers, mechanical shovels, excavators, shovel loaders, tamping machines and road rollers, self-propelled",
          "Electrical machinery and equipment and parts thereof/Electric transformers, static converters (eg rectifiers) and inductors",
          "Fish and crustaceans, molluscs and other aquatic invertebrates/Fish",
          "Trees and other plants, live/Flowers",
          "Furniture/Furniture and parts thereof, n.e.s. in chapter 94",
          "Electrical machinery and equipment and parts thereof/Insulated wire, cable and other electric conductors, connector fitted or not",
          "Iron and steel/Iron or non-alloy steel",
          "Natural, cultured pearls/Jewellery articles and parts thereof, of precious metal or of metal clad with precious metal",
          "Vehicles/Motor cars and other motor vehicles",
          "Mineral fuels, mineral oils and products of their distillation/Petroleum oils, oils from bituminous minerals, not crude",
          "Salt/Portland cement, aluminous cement (\"ciment fondu\"), slag cement, supersulphate cement and similar hydraulic cements, whether or not coloured or in the form of clinkers",
          "Meat, fish or crustaceans, molluscs or other aquatic invertebrates/Prepared or preserved meat, meat offal or blood",
          "Miscellaneous edible preparations/Sauces and preparations therefor",
          "Iron or steel articles/Structures of iron or steel and parts thereof",
          "Electrical machinery and equipment and parts thereof/Transmission apparatus for radio-telephony, radio-telegraphy, radio-broadcasting or television, whether or not incorporating reception, sound recording or reproducing apparatus",
          "Articles of leather/Trunks",
          "Beverages, spirits and vinegar/Waters, including mineral and aerated waters, containing added sugar or sweetening matter, flavoured",
          "Clocks and watches and parts thereof/Wrist-watches, pocket-watches, stop-watches and other watches, other than those of heading no. 9101",
          "Aluminium and articles thereof",
          "Articles of leather",
          "Beverages, spirits and vinegar",
          "Clocks and watches and parts thereof",
          "Electrical machinery and equipment and parts thereof",
          "Fish and crustaceans, molluscs and other aquatic invertebrates",
          "Furniture",
          "Iron and steel",
          "Iron or steel articles",
          "Meat, fish or crustaceans, molluscs or other aquatic invertebrates",
          "Mineral fuels, mineral oils and products of their distillation",
          "Miscellaneous edible preparations",
          "Natural, cultured pearls",
          "Nuclear reactors, boilers, machinery and mechanical appliances",
          "Preparations of cereals, flour, starch or milk",
          "Salt",
          "Trees and other plants, live",
          "Vehicles"
         ],
         "labels": [
          "Aluminium",
          "Bread, pastry, cakes, biscuits, other bakers' wares, whether or not containing cocoa",
          "Bulldozers, graders, levellers, scrapers, angledozers, mechanical shovels, excavators, shovel loaders, tamping machines and road rollers, self-propelled",
          "Electric transformers, static converters (eg rectifiers) and inductors",
          "Fish",
          "Flowers",
          "Furniture and parts thereof, n.e.s. in chapter 94",
          "Insulated wire, cable and other electric conductors, connector fitted or not",
          "Iron or non-alloy steel",
          "Jewellery articles and parts thereof, of precious metal or of metal clad with precious metal",
          "Motor cars and other motor vehicles",
          "Petroleum oils, oils from bituminous minerals, not crude",
          "Portland cement, aluminous cement (\"ciment fondu\"), slag cement, supersulphate cement and similar hydraulic cements, whether or not coloured or in the form of clinkers",
          "Prepared or preserved meat, meat offal or blood",
          "Sauces and preparations therefor",
          "Structures of iron or steel and parts thereof",
          "Transmission apparatus for radio-telephony, radio-telegraphy, radio-broadcasting or television, whether or not incorporating reception, sound recording or reproducing apparatus",
          "Trunks",
          "Waters, including mineral and aerated waters, containing added sugar or sweetening matter, flavoured",
          "Wrist-watches, pocket-watches, stop-watches and other watches, other than those of heading no. 9101",
          "Aluminium and articles thereof",
          "Articles of leather",
          "Beverages, spirits and vinegar",
          "Clocks and watches and parts thereof",
          "Electrical machinery and equipment and parts thereof",
          "Fish and crustaceans, molluscs and other aquatic invertebrates",
          "Furniture",
          "Iron and steel",
          "Iron or steel articles",
          "Meat, fish or crustaceans, molluscs or other aquatic invertebrates",
          "Mineral fuels, mineral oils and products of their distillation",
          "Miscellaneous edible preparations",
          "Natural, cultured pearls",
          "Nuclear reactors, boilers, machinery and mechanical appliances",
          "Preparations of cereals, flour, starch or milk",
          "Salt",
          "Trees and other plants, live",
          "Vehicles"
         ],
         "name": "",
         "parents": [
          "Aluminium and articles thereof",
          "Preparations of cereals, flour, starch or milk",
          "Nuclear reactors, boilers, machinery and mechanical appliances",
          "Electrical machinery and equipment and parts thereof",
          "Fish and crustaceans, molluscs and other aquatic invertebrates",
          "Trees and other plants, live",
          "Furniture",
          "Electrical machinery and equipment and parts thereof",
          "Iron and steel",
          "Natural, cultured pearls",
          "Vehicles",
          "Mineral fuels, mineral oils and products of their distillation",
          "Salt",
          "Meat, fish or crustaceans, molluscs or other aquatic invertebrates",
          "Miscellaneous edible preparations",
          "Iron or steel articles",
          "Electrical machinery and equipment and parts thereof",
          "Articles of leather",
          "Beverages, spirits and vinegar",
          "Clocks and watches and parts thereof",
          "",
          "",
          "",
          "",
          "",
          "",
          "",
          "",
          "",
          "",
          "",
          "",
          "",
          "",
          "",
          "",
          "",
          ""
         ],
         "root": {
          "color": "lightgrey"
         },
         "textinfo": "label+percent root",
         "type": "treemap",
         "values": [
          3233.904,
          5060.102999999999,
          4137.144,
          3203.742,
          3155.9029999999993,
          8239.477,
          3782.9790000000003,
          3614.434,
          7996.209999999999,
          4517.321,
          44947.601,
          314455.619,
          3926.052,
          3638.0460000000003,
          3348.969,
          6067.134,
          5849.6179999999995,
          21922.803,
          10165.706,
          7754.610999999999,
          3233.904,
          21922.803,
          10165.706,
          7754.610999999999,
          12667.794,
          3155.9029999999993,
          3782.9790000000003,
          7996.209999999999,
          6067.134,
          3638.0460000000003,
          314455.619,
          3348.969,
          4517.321,
          4137.144,
          5060.102999999999,
          3926.052,
          8239.477,
          44947.601
         ]
        }
       ],
       "layout": {
        "autosize": true,
        "font": {
         "size": 20
        },
        "legend": {
         "tracegroupgap": 0
        },
        "margin": {
         "b": 25,
         "l": 25,
         "r": 25,
         "t": 50
        },
        "template": {
         "data": {
          "bar": [
           {
            "error_x": {
             "color": "#2a3f5f"
            },
            "error_y": {
             "color": "#2a3f5f"
            },
            "marker": {
             "line": {
              "color": "#E5ECF6",
              "width": 0.5
             },
             "pattern": {
              "fillmode": "overlay",
              "size": 10,
              "solidity": 0.2
             }
            },
            "type": "bar"
           }
          ],
          "barpolar": [
           {
            "marker": {
             "line": {
              "color": "#E5ECF6",
              "width": 0.5
             },
             "pattern": {
              "fillmode": "overlay",
              "size": 10,
              "solidity": 0.2
             }
            },
            "type": "barpolar"
           }
          ],
          "carpet": [
           {
            "aaxis": {
             "endlinecolor": "#2a3f5f",
             "gridcolor": "white",
             "linecolor": "white",
             "minorgridcolor": "white",
             "startlinecolor": "#2a3f5f"
            },
            "baxis": {
             "endlinecolor": "#2a3f5f",
             "gridcolor": "white",
             "linecolor": "white",
             "minorgridcolor": "white",
             "startlinecolor": "#2a3f5f"
            },
            "type": "carpet"
           }
          ],
          "choropleth": [
           {
            "colorbar": {
             "outlinewidth": 0,
             "ticks": ""
            },
            "type": "choropleth"
           }
          ],
          "contour": [
           {
            "colorbar": {
             "outlinewidth": 0,
             "ticks": ""
            },
            "colorscale": [
             [
              0,
              "#0d0887"
             ],
             [
              0.1111111111111111,
              "#46039f"
             ],
             [
              0.2222222222222222,
              "#7201a8"
             ],
             [
              0.3333333333333333,
              "#9c179e"
             ],
             [
              0.4444444444444444,
              "#bd3786"
             ],
             [
              0.5555555555555556,
              "#d8576b"
             ],
             [
              0.6666666666666666,
              "#ed7953"
             ],
             [
              0.7777777777777778,
              "#fb9f3a"
             ],
             [
              0.8888888888888888,
              "#fdca26"
             ],
             [
              1,
              "#f0f921"
             ]
            ],
            "type": "contour"
           }
          ],
          "contourcarpet": [
           {
            "colorbar": {
             "outlinewidth": 0,
             "ticks": ""
            },
            "type": "contourcarpet"
           }
          ],
          "heatmap": [
           {
            "colorbar": {
             "outlinewidth": 0,
             "ticks": ""
            },
            "colorscale": [
             [
              0,
              "#0d0887"
             ],
             [
              0.1111111111111111,
              "#46039f"
             ],
             [
              0.2222222222222222,
              "#7201a8"
             ],
             [
              0.3333333333333333,
              "#9c179e"
             ],
             [
              0.4444444444444444,
              "#bd3786"
             ],
             [
              0.5555555555555556,
              "#d8576b"
             ],
             [
              0.6666666666666666,
              "#ed7953"
             ],
             [
              0.7777777777777778,
              "#fb9f3a"
             ],
             [
              0.8888888888888888,
              "#fdca26"
             ],
             [
              1,
              "#f0f921"
             ]
            ],
            "type": "heatmap"
           }
          ],
          "heatmapgl": [
           {
            "colorbar": {
             "outlinewidth": 0,
             "ticks": ""
            },
            "colorscale": [
             [
              0,
              "#0d0887"
             ],
             [
              0.1111111111111111,
              "#46039f"
             ],
             [
              0.2222222222222222,
              "#7201a8"
             ],
             [
              0.3333333333333333,
              "#9c179e"
             ],
             [
              0.4444444444444444,
              "#bd3786"
             ],
             [
              0.5555555555555556,
              "#d8576b"
             ],
             [
              0.6666666666666666,
              "#ed7953"
             ],
             [
              0.7777777777777778,
              "#fb9f3a"
             ],
             [
              0.8888888888888888,
              "#fdca26"
             ],
             [
              1,
              "#f0f921"
             ]
            ],
            "type": "heatmapgl"
           }
          ],
          "histogram": [
           {
            "marker": {
             "pattern": {
              "fillmode": "overlay",
              "size": 10,
              "solidity": 0.2
             }
            },
            "type": "histogram"
           }
          ],
          "histogram2d": [
           {
            "colorbar": {
             "outlinewidth": 0,
             "ticks": ""
            },
            "colorscale": [
             [
              0,
              "#0d0887"
             ],
             [
              0.1111111111111111,
              "#46039f"
             ],
             [
              0.2222222222222222,
              "#7201a8"
             ],
             [
              0.3333333333333333,
              "#9c179e"
             ],
             [
              0.4444444444444444,
              "#bd3786"
             ],
             [
              0.5555555555555556,
              "#d8576b"
             ],
             [
              0.6666666666666666,
              "#ed7953"
             ],
             [
              0.7777777777777778,
              "#fb9f3a"
             ],
             [
              0.8888888888888888,
              "#fdca26"
             ],
             [
              1,
              "#f0f921"
             ]
            ],
            "type": "histogram2d"
           }
          ],
          "histogram2dcontour": [
           {
            "colorbar": {
             "outlinewidth": 0,
             "ticks": ""
            },
            "colorscale": [
             [
              0,
              "#0d0887"
             ],
             [
              0.1111111111111111,
              "#46039f"
             ],
             [
              0.2222222222222222,
              "#7201a8"
             ],
             [
              0.3333333333333333,
              "#9c179e"
             ],
             [
              0.4444444444444444,
              "#bd3786"
             ],
             [
              0.5555555555555556,
              "#d8576b"
             ],
             [
              0.6666666666666666,
              "#ed7953"
             ],
             [
              0.7777777777777778,
              "#fb9f3a"
             ],
             [
              0.8888888888888888,
              "#fdca26"
             ],
             [
              1,
              "#f0f921"
             ]
            ],
            "type": "histogram2dcontour"
           }
          ],
          "mesh3d": [
           {
            "colorbar": {
             "outlinewidth": 0,
             "ticks": ""
            },
            "type": "mesh3d"
           }
          ],
          "parcoords": [
           {
            "line": {
             "colorbar": {
              "outlinewidth": 0,
              "ticks": ""
             }
            },
            "type": "parcoords"
           }
          ],
          "pie": [
           {
            "automargin": true,
            "type": "pie"
           }
          ],
          "scatter": [
           {
            "marker": {
             "colorbar": {
              "outlinewidth": 0,
              "ticks": ""
             }
            },
            "type": "scatter"
           }
          ],
          "scatter3d": [
           {
            "line": {
             "colorbar": {
              "outlinewidth": 0,
              "ticks": ""
             }
            },
            "marker": {
             "colorbar": {
              "outlinewidth": 0,
              "ticks": ""
             }
            },
            "type": "scatter3d"
           }
          ],
          "scattercarpet": [
           {
            "marker": {
             "colorbar": {
              "outlinewidth": 0,
              "ticks": ""
             }
            },
            "type": "scattercarpet"
           }
          ],
          "scattergeo": [
           {
            "marker": {
             "colorbar": {
              "outlinewidth": 0,
              "ticks": ""
             }
            },
            "type": "scattergeo"
           }
          ],
          "scattergl": [
           {
            "marker": {
             "colorbar": {
              "outlinewidth": 0,
              "ticks": ""
             }
            },
            "type": "scattergl"
           }
          ],
          "scattermapbox": [
           {
            "marker": {
             "colorbar": {
              "outlinewidth": 0,
              "ticks": ""
             }
            },
            "type": "scattermapbox"
           }
          ],
          "scatterpolar": [
           {
            "marker": {
             "colorbar": {
              "outlinewidth": 0,
              "ticks": ""
             }
            },
            "type": "scatterpolar"
           }
          ],
          "scatterpolargl": [
           {
            "marker": {
             "colorbar": {
              "outlinewidth": 0,
              "ticks": ""
             }
            },
            "type": "scatterpolargl"
           }
          ],
          "scatterternary": [
           {
            "marker": {
             "colorbar": {
              "outlinewidth": 0,
              "ticks": ""
             }
            },
            "type": "scatterternary"
           }
          ],
          "surface": [
           {
            "colorbar": {
             "outlinewidth": 0,
             "ticks": ""
            },
            "colorscale": [
             [
              0,
              "#0d0887"
             ],
             [
              0.1111111111111111,
              "#46039f"
             ],
             [
              0.2222222222222222,
              "#7201a8"
             ],
             [
              0.3333333333333333,
              "#9c179e"
             ],
             [
              0.4444444444444444,
              "#bd3786"
             ],
             [
              0.5555555555555556,
              "#d8576b"
             ],
             [
              0.6666666666666666,
              "#ed7953"
             ],
             [
              0.7777777777777778,
              "#fb9f3a"
             ],
             [
              0.8888888888888888,
              "#fdca26"
             ],
             [
              1,
              "#f0f921"
             ]
            ],
            "type": "surface"
           }
          ],
          "table": [
           {
            "cells": {
             "fill": {
              "color": "#EBF0F8"
             },
             "line": {
              "color": "white"
             }
            },
            "header": {
             "fill": {
              "color": "#C8D4E3"
             },
             "line": {
              "color": "white"
             }
            },
            "type": "table"
           }
          ]
         },
         "layout": {
          "annotationdefaults": {
           "arrowcolor": "#2a3f5f",
           "arrowhead": 0,
           "arrowwidth": 1
          },
          "autotypenumbers": "strict",
          "coloraxis": {
           "colorbar": {
            "outlinewidth": 0,
            "ticks": ""
           }
          },
          "colorscale": {
           "diverging": [
            [
             0,
             "#8e0152"
            ],
            [
             0.1,
             "#c51b7d"
            ],
            [
             0.2,
             "#de77ae"
            ],
            [
             0.3,
             "#f1b6da"
            ],
            [
             0.4,
             "#fde0ef"
            ],
            [
             0.5,
             "#f7f7f7"
            ],
            [
             0.6,
             "#e6f5d0"
            ],
            [
             0.7,
             "#b8e186"
            ],
            [
             0.8,
             "#7fbc41"
            ],
            [
             0.9,
             "#4d9221"
            ],
            [
             1,
             "#276419"
            ]
           ],
           "sequential": [
            [
             0,
             "#0d0887"
            ],
            [
             0.1111111111111111,
             "#46039f"
            ],
            [
             0.2222222222222222,
             "#7201a8"
            ],
            [
             0.3333333333333333,
             "#9c179e"
            ],
            [
             0.4444444444444444,
             "#bd3786"
            ],
            [
             0.5555555555555556,
             "#d8576b"
            ],
            [
             0.6666666666666666,
             "#ed7953"
            ],
            [
             0.7777777777777778,
             "#fb9f3a"
            ],
            [
             0.8888888888888888,
             "#fdca26"
            ],
            [
             1,
             "#f0f921"
            ]
           ],
           "sequentialminus": [
            [
             0,
             "#0d0887"
            ],
            [
             0.1111111111111111,
             "#46039f"
            ],
            [
             0.2222222222222222,
             "#7201a8"
            ],
            [
             0.3333333333333333,
             "#9c179e"
            ],
            [
             0.4444444444444444,
             "#bd3786"
            ],
            [
             0.5555555555555556,
             "#d8576b"
            ],
            [
             0.6666666666666666,
             "#ed7953"
            ],
            [
             0.7777777777777778,
             "#fb9f3a"
            ],
            [
             0.8888888888888888,
             "#fdca26"
            ],
            [
             1,
             "#f0f921"
            ]
           ]
          },
          "colorway": [
           "#636efa",
           "#EF553B",
           "#00cc96",
           "#ab63fa",
           "#FFA15A",
           "#19d3f3",
           "#FF6692",
           "#B6E880",
           "#FF97FF",
           "#FECB52"
          ],
          "font": {
           "color": "#2a3f5f"
          },
          "geo": {
           "bgcolor": "white",
           "lakecolor": "white",
           "landcolor": "#E5ECF6",
           "showlakes": true,
           "showland": true,
           "subunitcolor": "white"
          },
          "hoverlabel": {
           "align": "left"
          },
          "hovermode": "closest",
          "mapbox": {
           "style": "light"
          },
          "paper_bgcolor": "white",
          "plot_bgcolor": "#E5ECF6",
          "polar": {
           "angularaxis": {
            "gridcolor": "white",
            "linecolor": "white",
            "ticks": ""
           },
           "bgcolor": "#E5ECF6",
           "radialaxis": {
            "gridcolor": "white",
            "linecolor": "white",
            "ticks": ""
           }
          },
          "scene": {
           "xaxis": {
            "backgroundcolor": "#E5ECF6",
            "gridcolor": "white",
            "gridwidth": 2,
            "linecolor": "white",
            "showbackground": true,
            "ticks": "",
            "zerolinecolor": "white"
           },
           "yaxis": {
            "backgroundcolor": "#E5ECF6",
            "gridcolor": "white",
            "gridwidth": 2,
            "linecolor": "white",
            "showbackground": true,
            "ticks": "",
            "zerolinecolor": "white"
           },
           "zaxis": {
            "backgroundcolor": "#E5ECF6",
            "gridcolor": "white",
            "gridwidth": 2,
            "linecolor": "white",
            "showbackground": true,
            "ticks": "",
            "zerolinecolor": "white"
           }
          },
          "shapedefaults": {
           "line": {
            "color": "#2a3f5f"
           }
          },
          "ternary": {
           "aaxis": {
            "gridcolor": "white",
            "linecolor": "white",
            "ticks": ""
           },
           "baxis": {
            "gridcolor": "white",
            "linecolor": "white",
            "ticks": ""
           },
           "bgcolor": "#E5ECF6",
           "caxis": {
            "gridcolor": "white",
            "linecolor": "white",
            "ticks": ""
           }
          },
          "title": {
           "x": 0.05
          },
          "xaxis": {
           "automargin": true,
           "gridcolor": "white",
           "linecolor": "white",
           "ticks": "",
           "title": {
            "standoff": 15
           },
           "zerolinecolor": "white",
           "zerolinewidth": 2
          },
          "yaxis": {
           "automargin": true,
           "gridcolor": "white",
           "linecolor": "white",
           "ticks": "",
           "title": {
            "standoff": 15
           },
           "zerolinecolor": "white",
           "zerolinewidth": 2
          }
         }
        },
        "title": {
         "text": "Guam Imports (2020) - Total Value: $606M"
        }
       }
      },
      "image/png": "[encoded data removed]",
      "text/html": [
       "<div>                            <div id=\"97d4b064-03c0-45bb-bd6b-cbeebc41a6e2\" class=\"plotly-graph-div\" style=\"height:800px; width:100%;\"></div>            <script type=\"text/javascript\">                require([\"plotly\"], function(Plotly) {                    window.PLOTLYENV=window.PLOTLYENV || {};                                    if (document.getElementById(\"97d4b064-03c0-45bb-bd6b-cbeebc41a6e2\")) {                    Plotly.newPlot(                        \"97d4b064-03c0-45bb-bd6b-cbeebc41a6e2\",                        [{\"branchvalues\":\"total\",\"domain\":{\"x\":[0.0,1.0],\"y\":[0.0,1.0]},\"hovertemplate\":\"labels=%{label}<br>value=%{value}<br>parent=%{parent}<br>id=%{id}<extra></extra>\",\"ids\":[\"Aluminium and articles thereof/Aluminium\",\"Preparations of cereals, flour, starch or milk/Bread, pastry, cakes, biscuits, other bakers' wares, whether or not containing cocoa\",\"Nuclear reactors, boilers, machinery and mechanical appliances/Bulldozers, graders, levellers, scrapers, angledozers, mechanical shovels, excavators, shovel loaders, tamping machines and road rollers, self-propelled\",\"Electrical machinery and equipment and parts thereof/Electric transformers, static converters (eg rectifiers) and inductors\",\"Fish and crustaceans, molluscs and other aquatic invertebrates/Fish\",\"Trees and other plants, live/Flowers\",\"Furniture/Furniture and parts thereof, n.e.s. in chapter 94\",\"Electrical machinery and equipment and parts thereof/Insulated wire, cable and other electric conductors, connector fitted or not\",\"Iron and steel/Iron or non-alloy steel\",\"Natural, cultured pearls/Jewellery articles and parts thereof, of precious metal or of metal clad with precious metal\",\"Vehicles/Motor cars and other motor vehicles\",\"Mineral fuels, mineral oils and products of their distillation/Petroleum oils, oils from bituminous minerals, not crude\",\"Salt/Portland cement, aluminous cement (\\\"ciment fondu\\\"), slag cement, supersulphate cement and similar hydraulic cements, whether or not coloured or in the form of clinkers\",\"Meat, fish or crustaceans, molluscs or other aquatic invertebrates/Prepared or preserved meat, meat offal or blood\",\"Miscellaneous edible preparations/Sauces and preparations therefor\",\"Iron or steel articles/Structures of iron or steel and parts thereof\",\"Electrical machinery and equipment and parts thereof/Transmission apparatus for radio-telephony, radio-telegraphy, radio-broadcasting or television, whether or not incorporating reception, sound recording or reproducing apparatus\",\"Articles of leather/Trunks\",\"Beverages, spirits and vinegar/Waters, including mineral and aerated waters, containing added sugar or sweetening matter, flavoured\",\"Clocks and watches and parts thereof/Wrist-watches, pocket-watches, stop-watches and other watches, other than those of heading no. 9101\",\"Aluminium and articles thereof\",\"Articles of leather\",\"Beverages, spirits and vinegar\",\"Clocks and watches and parts thereof\",\"Electrical machinery and equipment and parts thereof\",\"Fish and crustaceans, molluscs and other aquatic invertebrates\",\"Furniture\",\"Iron and steel\",\"Iron or steel articles\",\"Meat, fish or crustaceans, molluscs or other aquatic invertebrates\",\"Mineral fuels, mineral oils and products of their distillation\",\"Miscellaneous edible preparations\",\"Natural, cultured pearls\",\"Nuclear reactors, boilers, machinery and mechanical appliances\",\"Preparations of cereals, flour, starch or milk\",\"Salt\",\"Trees and other plants, live\",\"Vehicles\"],\"labels\":[\"Aluminium\",\"Bread, pastry, cakes, biscuits, other bakers' wares, whether or not containing cocoa\",\"Bulldozers, graders, levellers, scrapers, angledozers, mechanical shovels, excavators, shovel loaders, tamping machines and road rollers, self-propelled\",\"Electric transformers, static converters (eg rectifiers) and inductors\",\"Fish\",\"Flowers\",\"Furniture and parts thereof, n.e.s. in chapter 94\",\"Insulated wire, cable and other electric conductors, connector fitted or not\",\"Iron or non-alloy steel\",\"Jewellery articles and parts thereof, of precious metal or of metal clad with precious metal\",\"Motor cars and other motor vehicles\",\"Petroleum oils, oils from bituminous minerals, not crude\",\"Portland cement, aluminous cement (\\\"ciment fondu\\\"), slag cement, supersulphate cement and similar hydraulic cements, whether or not coloured or in the form of clinkers\",\"Prepared or preserved meat, meat offal or blood\",\"Sauces and preparations therefor\",\"Structures of iron or steel and parts thereof\",\"Transmission apparatus for radio-telephony, radio-telegraphy, radio-broadcasting or television, whether or not incorporating reception, sound recording or reproducing apparatus\",\"Trunks\",\"Waters, including mineral and aerated waters, containing added sugar or sweetening matter, flavoured\",\"Wrist-watches, pocket-watches, stop-watches and other watches, other than those of heading no. 9101\",\"Aluminium and articles thereof\",\"Articles of leather\",\"Beverages, spirits and vinegar\",\"Clocks and watches and parts thereof\",\"Electrical machinery and equipment and parts thereof\",\"Fish and crustaceans, molluscs and other aquatic invertebrates\",\"Furniture\",\"Iron and steel\",\"Iron or steel articles\",\"Meat, fish or crustaceans, molluscs or other aquatic invertebrates\",\"Mineral fuels, mineral oils and products of their distillation\",\"Miscellaneous edible preparations\",\"Natural, cultured pearls\",\"Nuclear reactors, boilers, machinery and mechanical appliances\",\"Preparations of cereals, flour, starch or milk\",\"Salt\",\"Trees and other plants, live\",\"Vehicles\"],\"name\":\"\",\"parents\":[\"Aluminium and articles thereof\",\"Preparations of cereals, flour, starch or milk\",\"Nuclear reactors, boilers, machinery and mechanical appliances\",\"Electrical machinery and equipment and parts thereof\",\"Fish and crustaceans, molluscs and other aquatic invertebrates\",\"Trees and other plants, live\",\"Furniture\",\"Electrical machinery and equipment and parts thereof\",\"Iron and steel\",\"Natural, cultured pearls\",\"Vehicles\",\"Mineral fuels, mineral oils and products of their distillation\",\"Salt\",\"Meat, fish or crustaceans, molluscs or other aquatic invertebrates\",\"Miscellaneous edible preparations\",\"Iron or steel articles\",\"Electrical machinery and equipment and parts thereof\",\"Articles of leather\",\"Beverages, spirits and vinegar\",\"Clocks and watches and parts thereof\",\"\",\"\",\"\",\"\",\"\",\"\",\"\",\"\",\"\",\"\",\"\",\"\",\"\",\"\",\"\",\"\",\"\",\"\"],\"values\":[3233.904,5060.102999999999,4137.144,3203.742,3155.9029999999993,8239.477,3782.9790000000003,3614.434,7996.209999999999,4517.321,44947.601,314455.619,3926.052,3638.0460000000003,3348.969,6067.134,5849.6179999999995,21922.803,10165.706,7754.610999999999,3233.904,21922.803,10165.706,7754.610999999999,12667.794,3155.9029999999993,3782.9790000000003,7996.209999999999,6067.134,3638.0460000000003,314455.619,3348.969,4517.321,4137.144,5060.102999999999,3926.052,8239.477,44947.601],\"type\":\"treemap\",\"root\":{\"color\":\"lightgrey\"},\"textinfo\":\"label+percent root\"}],                        {\"template\":{\"data\":{\"bar\":[{\"error_x\":{\"color\":\"#2a3f5f\"},\"error_y\":{\"color\":\"#2a3f5f\"},\"marker\":{\"line\":{\"color\":\"#E5ECF6\",\"width\":0.5},\"pattern\":{\"fillmode\":\"overlay\",\"size\":10,\"solidity\":0.2}},\"type\":\"bar\"}],\"barpolar\":[{\"marker\":{\"line\":{\"color\":\"#E5ECF6\",\"width\":0.5},\"pattern\":{\"fillmode\":\"overlay\",\"size\":10,\"solidity\":0.2}},\"type\":\"barpolar\"}],\"carpet\":[{\"aaxis\":{\"endlinecolor\":\"#2a3f5f\",\"gridcolor\":\"white\",\"linecolor\":\"white\",\"minorgridcolor\":\"white\",\"startlinecolor\":\"#2a3f5f\"},\"baxis\":{\"endlinecolor\":\"#2a3f5f\",\"gridcolor\":\"white\",\"linecolor\":\"white\",\"minorgridcolor\":\"white\",\"startlinecolor\":\"#2a3f5f\"},\"type\":\"carpet\"}],\"choropleth\":[{\"colorbar\":{\"outlinewidth\":0,\"ticks\":\"\"},\"type\":\"choropleth\"}],\"contour\":[{\"colorbar\":{\"outlinewidth\":0,\"ticks\":\"\"},\"colorscale\":[[0.0,\"#0d0887\"],[0.1111111111111111,\"#46039f\"],[0.2222222222222222,\"#7201a8\"],[0.3333333333333333,\"#9c179e\"],[0.4444444444444444,\"#bd3786\"],[0.5555555555555556,\"#d8576b\"],[0.6666666666666666,\"#ed7953\"],[0.7777777777777778,\"#fb9f3a\"],[0.8888888888888888,\"#fdca26\"],[1.0,\"#f0f921\"]],\"type\":\"contour\"}],\"contourcarpet\":[{\"colorbar\":{\"outlinewidth\":0,\"ticks\":\"\"},\"type\":\"contourcarpet\"}],\"heatmap\":[{\"colorbar\":{\"outlinewidth\":0,\"ticks\":\"\"},\"colorscale\":[[0.0,\"#0d0887\"],[0.1111111111111111,\"#46039f\"],[0.2222222222222222,\"#7201a8\"],[0.3333333333333333,\"#9c179e\"],[0.4444444444444444,\"#bd3786\"],[0.5555555555555556,\"#d8576b\"],[0.6666666666666666,\"#ed7953\"],[0.7777777777777778,\"#fb9f3a\"],[0.8888888888888888,\"#fdca26\"],[1.0,\"#f0f921\"]],\"type\":\"heatmap\"}],\"heatmapgl\":[{\"colorbar\":{\"outlinewidth\":0,\"ticks\":\"\"},\"colorscale\":[[0.0,\"#0d0887\"],[0.1111111111111111,\"#46039f\"],[0.2222222222222222,\"#7201a8\"],[0.3333333333333333,\"#9c179e\"],[0.4444444444444444,\"#bd3786\"],[0.5555555555555556,\"#d8576b\"],[0.6666666666666666,\"#ed7953\"],[0.7777777777777778,\"#fb9f3a\"],[0.8888888888888888,\"#fdca26\"],[1.0,\"#f0f921\"]],\"type\":\"heatmapgl\"}],\"histogram\":[{\"marker\":{\"pattern\":{\"fillmode\":\"overlay\",\"size\":10,\"solidity\":0.2}},\"type\":\"histogram\"}],\"histogram2d\":[{\"colorbar\":{\"outlinewidth\":0,\"ticks\":\"\"},\"colorscale\":[[0.0,\"#0d0887\"],[0.1111111111111111,\"#46039f\"],[0.2222222222222222,\"#7201a8\"],[0.3333333333333333,\"#9c179e\"],[0.4444444444444444,\"#bd3786\"],[0.5555555555555556,\"#d8576b\"],[0.6666666666666666,\"#ed7953\"],[0.7777777777777778,\"#fb9f3a\"],[0.8888888888888888,\"#fdca26\"],[1.0,\"#f0f921\"]],\"type\":\"histogram2d\"}],\"histogram2dcontour\":[{\"colorbar\":{\"outlinewidth\":0,\"ticks\":\"\"},\"colorscale\":[[0.0,\"#0d0887\"],[0.1111111111111111,\"#46039f\"],[0.2222222222222222,\"#7201a8\"],[0.3333333333333333,\"#9c179e\"],[0.4444444444444444,\"#bd3786\"],[0.5555555555555556,\"#d8576b\"],[0.6666666666666666,\"#ed7953\"],[0.7777777777777778,\"#fb9f3a\"],[0.8888888888888888,\"#fdca26\"],[1.0,\"#f0f921\"]],\"type\":\"histogram2dcontour\"}],\"mesh3d\":[{\"colorbar\":{\"outlinewidth\":0,\"ticks\":\"\"},\"type\":\"mesh3d\"}],\"parcoords\":[{\"line\":{\"colorbar\":{\"outlinewidth\":0,\"ticks\":\"\"}},\"type\":\"parcoords\"}],\"pie\":[{\"automargin\":true,\"type\":\"pie\"}],\"scatter\":[{\"marker\":{\"colorbar\":{\"outlinewidth\":0,\"ticks\":\"\"}},\"type\":\"scatter\"}],\"scatter3d\":[{\"line\":{\"colorbar\":{\"outlinewidth\":0,\"ticks\":\"\"}},\"marker\":{\"colorbar\":{\"outlinewidth\":0,\"ticks\":\"\"}},\"type\":\"scatter3d\"}],\"scattercarpet\":[{\"marker\":{\"colorbar\":{\"outlinewidth\":0,\"ticks\":\"\"}},\"type\":\"scattercarpet\"}],\"scattergeo\":[{\"marker\":{\"colorbar\":{\"outlinewidth\":0,\"ticks\":\"\"}},\"type\":\"scattergeo\"}],\"scattergl\":[{\"marker\":{\"colorbar\":{\"outlinewidth\":0,\"ticks\":\"\"}},\"type\":\"scattergl\"}],\"scattermapbox\":[{\"marker\":{\"colorbar\":{\"outlinewidth\":0,\"ticks\":\"\"}},\"type\":\"scattermapbox\"}],\"scatterpolar\":[{\"marker\":{\"colorbar\":{\"outlinewidth\":0,\"ticks\":\"\"}},\"type\":\"scatterpolar\"}],\"scatterpolargl\":[{\"marker\":{\"colorbar\":{\"outlinewidth\":0,\"ticks\":\"\"}},\"type\":\"scatterpolargl\"}],\"scatterternary\":[{\"marker\":{\"colorbar\":{\"outlinewidth\":0,\"ticks\":\"\"}},\"type\":\"scatterternary\"}],\"surface\":[{\"colorbar\":{\"outlinewidth\":0,\"ticks\":\"\"},\"colorscale\":[[0.0,\"#0d0887\"],[0.1111111111111111,\"#46039f\"],[0.2222222222222222,\"#7201a8\"],[0.3333333333333333,\"#9c179e\"],[0.4444444444444444,\"#bd3786\"],[0.5555555555555556,\"#d8576b\"],[0.6666666666666666,\"#ed7953\"],[0.7777777777777778,\"#fb9f3a\"],[0.8888888888888888,\"#fdca26\"],[1.0,\"#f0f921\"]],\"type\":\"surface\"}],\"table\":[{\"cells\":{\"fill\":{\"color\":\"#EBF0F8\"},\"line\":{\"color\":\"white\"}},\"header\":{\"fill\":{\"color\":\"#C8D4E3\"},\"line\":{\"color\":\"white\"}},\"type\":\"table\"}]},\"layout\":{\"annotationdefaults\":{\"arrowcolor\":\"#2a3f5f\",\"arrowhead\":0,\"arrowwidth\":1},\"autotypenumbers\":\"strict\",\"coloraxis\":{\"colorbar\":{\"outlinewidth\":0,\"ticks\":\"\"}},\"colorscale\":{\"diverging\":[[0,\"#8e0152\"],[0.1,\"#c51b7d\"],[0.2,\"#de77ae\"],[0.3,\"#f1b6da\"],[0.4,\"#fde0ef\"],[0.5,\"#f7f7f7\"],[0.6,\"#e6f5d0\"],[0.7,\"#b8e186\"],[0.8,\"#7fbc41\"],[0.9,\"#4d9221\"],[1,\"#276419\"]],\"sequential\":[[0.0,\"#0d0887\"],[0.1111111111111111,\"#46039f\"],[0.2222222222222222,\"#7201a8\"],[0.3333333333333333,\"#9c179e\"],[0.4444444444444444,\"#bd3786\"],[0.5555555555555556,\"#d8576b\"],[0.6666666666666666,\"#ed7953\"],[0.7777777777777778,\"#fb9f3a\"],[0.8888888888888888,\"#fdca26\"],[1.0,\"#f0f921\"]],\"sequentialminus\":[[0.0,\"#0d0887\"],[0.1111111111111111,\"#46039f\"],[0.2222222222222222,\"#7201a8\"],[0.3333333333333333,\"#9c179e\"],[0.4444444444444444,\"#bd3786\"],[0.5555555555555556,\"#d8576b\"],[0.6666666666666666,\"#ed7953\"],[0.7777777777777778,\"#fb9f3a\"],[0.8888888888888888,\"#fdca26\"],[1.0,\"#f0f921\"]]},\"colorway\":[\"#636efa\",\"#EF553B\",\"#00cc96\",\"#ab63fa\",\"#FFA15A\",\"#19d3f3\",\"#FF6692\",\"#B6E880\",\"#FF97FF\",\"#FECB52\"],\"font\":{\"color\":\"#2a3f5f\"},\"geo\":{\"bgcolor\":\"white\",\"lakecolor\":\"white\",\"landcolor\":\"#E5ECF6\",\"showlakes\":true,\"showland\":true,\"subunitcolor\":\"white\"},\"hoverlabel\":{\"align\":\"left\"},\"hovermode\":\"closest\",\"mapbox\":{\"style\":\"light\"},\"paper_bgcolor\":\"white\",\"plot_bgcolor\":\"#E5ECF6\",\"polar\":{\"angularaxis\":{\"gridcolor\":\"white\",\"linecolor\":\"white\",\"ticks\":\"\"},\"bgcolor\":\"#E5ECF6\",\"radialaxis\":{\"gridcolor\":\"white\",\"linecolor\":\"white\",\"ticks\":\"\"}},\"scene\":{\"xaxis\":{\"backgroundcolor\":\"#E5ECF6\",\"gridcolor\":\"white\",\"gridwidth\":2,\"linecolor\":\"white\",\"showbackground\":true,\"ticks\":\"\",\"zerolinecolor\":\"white\"},\"yaxis\":{\"backgroundcolor\":\"#E5ECF6\",\"gridcolor\":\"white\",\"gridwidth\":2,\"linecolor\":\"white\",\"showbackground\":true,\"ticks\":\"\",\"zerolinecolor\":\"white\"},\"zaxis\":{\"backgroundcolor\":\"#E5ECF6\",\"gridcolor\":\"white\",\"gridwidth\":2,\"linecolor\":\"white\",\"showbackground\":true,\"ticks\":\"\",\"zerolinecolor\":\"white\"}},\"shapedefaults\":{\"line\":{\"color\":\"#2a3f5f\"}},\"ternary\":{\"aaxis\":{\"gridcolor\":\"white\",\"linecolor\":\"white\",\"ticks\":\"\"},\"baxis\":{\"gridcolor\":\"white\",\"linecolor\":\"white\",\"ticks\":\"\"},\"bgcolor\":\"#E5ECF6\",\"caxis\":{\"gridcolor\":\"white\",\"linecolor\":\"white\",\"ticks\":\"\"}},\"title\":{\"x\":0.05},\"xaxis\":{\"automargin\":true,\"gridcolor\":\"white\",\"linecolor\":\"white\",\"ticks\":\"\",\"title\":{\"standoff\":15},\"zerolinecolor\":\"white\",\"zerolinewidth\":2},\"yaxis\":{\"automargin\":true,\"gridcolor\":\"white\",\"linecolor\":\"white\",\"ticks\":\"\",\"title\":{\"standoff\":15},\"zerolinecolor\":\"white\",\"zerolinewidth\":2}}},\"legend\":{\"tracegroupgap\":0},\"margin\":{\"t\":50,\"l\":25,\"r\":25,\"b\":25},\"font\":{\"size\":20},\"title\":{\"text\":\"Guam Imports (2020) - Total Value: $606M\"},\"height\":800},                        {\"responsive\": true}                    ).then(function(){\n",
       "                            \n",
       "var gd = document.getElementById('97d4b064-03c0-45bb-bd6b-cbeebc41a6e2');\n",
       "var x = new MutationObserver(function (mutations, observer) {{\n",
       "        var display = window.getComputedStyle(gd).display;\n",
       "        if (!display || display === 'none') {{\n",
       "            console.log([gd, 'removed!']);\n",
       "            Plotly.purge(gd);\n",
       "            observer.disconnect();\n",
       "        }}\n",
       "}});\n",
       "\n",
       "// Listen for the removal of the full notebook cells\n",
       "var notebookContainer = gd.closest('#notebook-container');\n",
       "if (notebookContainer) {{\n",
       "    x.observe(notebookContainer, {childList: true});\n",
       "}}\n",
       "\n",
       "// Listen for the clearing of the current output cell\n",
       "var outputEl = gd.closest('.output');\n",
       "if (outputEl) {{\n",
       "    x.observe(outputEl, {childList: true});\n",
       "}}\n",
       "\n",
       "                        })                };                });            </script>        </div>"
      ]
     },
     "metadata": {},
     "output_type": "display_data"
    }
   ],
   "source": [
    "import plotly.express as px\n",
    "\n",
    "fig = px.treemap(import_df, \n",
    "                 path=['parent', 'product'],\n",
    "                 values='value')\n",
    "fig.update_traces(root_color='lightgrey',\n",
    "                  textinfo='label+percent root')\n",
    "fig.update_layout(margin = dict(t=50, l=25, r=25, b=25),\n",
    "                  font_size=20,\n",
    "                  title = dict(text=f'Guam Imports (2020) - Total Value: ${total_imports_M}M'),\n",
    "                  height = 800)\n",
    "fig.show()"
   ]
  },
  {
   "cell_type": "code",
   "execution_count": 165,
   "id": "c4c4722f-ddd3-4ffd-ab51-538473cb5764",
   "metadata": {},
   "outputs": [
    {
     "name": "stderr",
     "output_type": "stream",
     "text": [
      "/home/koalefant/.local/share/virtualenvs/30-day-chart-2022-OzY2epYN/lib/python3.10/site-packages/plotly/express/_core.py:1637: FutureWarning:\n",
      "\n",
      "The frame.append method is deprecated and will be removed from pandas in a future version. Use pandas.concat instead.\n",
      "\n",
      "/home/koalefant/.local/share/virtualenvs/30-day-chart-2022-OzY2epYN/lib/python3.10/site-packages/plotly/express/_core.py:1637: FutureWarning:\n",
      "\n",
      "The frame.append method is deprecated and will be removed from pandas in a future version. Use pandas.concat instead.\n",
      "\n"
     ]
    },
    {
     "data": {
      "application/vnd.plotly.v1+json": {
       "config": {
        "plotlyServerURL": "https://plot.ly"
       },
       "data": [
        {
         "branchvalues": "total",
         "domain": {
          "x": [
           0,
           1
          ],
          "y": [
           0,
           1
          ]
         },
         "hovertemplate": "labels=%{label}<br>value=%{value}<br>parent=%{parent}<br>id=%{id}<extra></extra>",
         "ids": [
          "Aircraft, spacecraft and parts thereof/Aircraft",
          "Aluminium and articles thereof/Aluminium",
          "Copper and articles thereof/Copper",
          "Essential oils and resinoids/Cosmetic and toilet preparations",
          "Iron and steel/Ferrous waste and scrap",
          "Footwear/Footwear",
          "Apparel and clothing accessories/Jerseys, pullovers, cardigans, waistcoats and similar articles",
          "Natural, cultured pearls/Jewellery articles and parts thereof, of precious metal or of metal clad with precious metal",
          "Optical, photographic, cinematographic, measuring, checking, medical or surgical instruments and apparatus/Measuring or checking instruments, appliances and machines, n.e.s. or included in this chapter",
          "Rubber and articles thereof/Natural rubber, balata, gutta-percha, guayule, chicle and similar gums",
          "Coffee, tea, mate and spices/Nutmeg, mace and cardamoms",
          "Essential oils and resinoids/Perfumes and toilet waters",
          "Mineral fuels, mineral oils and products of their distillation/Petroleum oils, oils from bituminous minerals, not crude",
          "Apparel and clothing accessories/Shirts",
          "Iron or steel articles/Structures of iron or steel and parts thereof",
          "Apparel and clothing accessories/Suits, ensembles, jackets, blazers, trousers, bib and brace overalls, breeches and shorts (other than swimwear)",
          "Apparel and clothing accessories/Track suits, swimwear and other garments (not knitted or crocheted)",
          "Articles of leather/Trunks",
          "Clocks and watches and parts thereof/Wrist-watches, pocket-watches, stop-watches and other watches",
          "Clocks and watches and parts thereof/Wrist-watches, pocket-watches, stop-watches and other watches, other than those of heading no. 9101",
          "Aircraft, spacecraft and parts thereof",
          "Aluminium and articles thereof",
          "Apparel and clothing accessories",
          "Articles of leather",
          "Clocks and watches and parts thereof",
          "Coffee, tea, mate and spices",
          "Copper and articles thereof",
          "Essential oils and resinoids",
          "Footwear",
          "Iron and steel",
          "Iron or steel articles",
          "Mineral fuels, mineral oils and products of their distillation",
          "Natural, cultured pearls",
          "Optical, photographic, cinematographic, measuring, checking, medical or surgical instruments and apparatus",
          "Rubber and articles thereof"
         ],
         "labels": [
          "Aircraft",
          "Aluminium",
          "Copper",
          "Cosmetic and toilet preparations",
          "Ferrous waste and scrap",
          "Footwear",
          "Jerseys, pullovers, cardigans, waistcoats and similar articles",
          "Jewellery articles and parts thereof, of precious metal or of metal clad with precious metal",
          "Measuring or checking instruments, appliances and machines, n.e.s. or included in this chapter",
          "Natural rubber, balata, gutta-percha, guayule, chicle and similar gums",
          "Nutmeg, mace and cardamoms",
          "Perfumes and toilet waters",
          "Petroleum oils, oils from bituminous minerals, not crude",
          "Shirts",
          "Structures of iron or steel and parts thereof",
          "Suits, ensembles, jackets, blazers, trousers, bib and brace overalls, breeches and shorts (other than swimwear)",
          "Track suits, swimwear and other garments (not knitted or crocheted)",
          "Trunks",
          "Wrist-watches, pocket-watches, stop-watches and other watches",
          "Wrist-watches, pocket-watches, stop-watches and other watches, other than those of heading no. 9101",
          "Aircraft, spacecraft and parts thereof",
          "Aluminium and articles thereof",
          "Apparel and clothing accessories",
          "Articles of leather",
          "Clocks and watches and parts thereof",
          "Coffee, tea, mate and spices",
          "Copper and articles thereof",
          "Essential oils and resinoids",
          "Footwear",
          "Iron and steel",
          "Iron or steel articles",
          "Mineral fuels, mineral oils and products of their distillation",
          "Natural, cultured pearls",
          "Optical, photographic, cinematographic, measuring, checking, medical or surgical instruments and apparatus",
          "Rubber and articles thereof"
         ],
         "name": "",
         "parents": [
          "Aircraft, spacecraft and parts thereof",
          "Aluminium and articles thereof",
          "Copper and articles thereof",
          "Essential oils and resinoids",
          "Iron and steel",
          "Footwear",
          "Apparel and clothing accessories",
          "Natural, cultured pearls",
          "Optical, photographic, cinematographic, measuring, checking, medical or surgical instruments and apparatus",
          "Rubber and articles thereof",
          "Coffee, tea, mate and spices",
          "Essential oils and resinoids",
          "Mineral fuels, mineral oils and products of their distillation",
          "Apparel and clothing accessories",
          "Iron or steel articles",
          "Apparel and clothing accessories",
          "Apparel and clothing accessories",
          "Articles of leather",
          "Clocks and watches and parts thereof",
          "Clocks and watches and parts thereof",
          "",
          "",
          "",
          "",
          "",
          "",
          "",
          "",
          "",
          "",
          "",
          "",
          "",
          "",
          ""
         ],
         "root": {
          "color": "lightgrey"
         },
         "textinfo": "label+percent root",
         "type": "treemap",
         "values": [
          176.52100000000002,
          534.2570000000001,
          1678.106,
          2726.9840000000004,
          3027.478,
          539.399,
          202.128,
          3024.3840000000005,
          212.743,
          528.767,
          467.168,
          244.51600000000002,
          334.565,
          125.654,
          512.6750000000001,
          671.8100000000001,
          245.591,
          7321.045,
          165.45499999999998,
          8484.052,
          176.52100000000002,
          534.2570000000001,
          1245.183,
          7321.045,
          8649.507,
          467.168,
          1678.106,
          2971.5000000000005,
          539.399,
          3027.478,
          512.6750000000001,
          334.565,
          3024.3840000000005,
          212.743,
          528.767
         ]
        }
       ],
       "layout": {
        "autosize": true,
        "font": {
         "size": 20
        },
        "legend": {
         "tracegroupgap": 0
        },
        "margin": {
         "b": 25,
         "l": 25,
         "r": 25,
         "t": 50
        },
        "template": {
         "data": {
          "bar": [
           {
            "error_x": {
             "color": "#2a3f5f"
            },
            "error_y": {
             "color": "#2a3f5f"
            },
            "marker": {
             "line": {
              "color": "#E5ECF6",
              "width": 0.5
             },
             "pattern": {
              "fillmode": "overlay",
              "size": 10,
              "solidity": 0.2
             }
            },
            "type": "bar"
           }
          ],
          "barpolar": [
           {
            "marker": {
             "line": {
              "color": "#E5ECF6",
              "width": 0.5
             },
             "pattern": {
              "fillmode": "overlay",
              "size": 10,
              "solidity": 0.2
             }
            },
            "type": "barpolar"
           }
          ],
          "carpet": [
           {
            "aaxis": {
             "endlinecolor": "#2a3f5f",
             "gridcolor": "white",
             "linecolor": "white",
             "minorgridcolor": "white",
             "startlinecolor": "#2a3f5f"
            },
            "baxis": {
             "endlinecolor": "#2a3f5f",
             "gridcolor": "white",
             "linecolor": "white",
             "minorgridcolor": "white",
             "startlinecolor": "#2a3f5f"
            },
            "type": "carpet"
           }
          ],
          "choropleth": [
           {
            "colorbar": {
             "outlinewidth": 0,
             "ticks": ""
            },
            "type": "choropleth"
           }
          ],
          "contour": [
           {
            "colorbar": {
             "outlinewidth": 0,
             "ticks": ""
            },
            "colorscale": [
             [
              0,
              "#0d0887"
             ],
             [
              0.1111111111111111,
              "#46039f"
             ],
             [
              0.2222222222222222,
              "#7201a8"
             ],
             [
              0.3333333333333333,
              "#9c179e"
             ],
             [
              0.4444444444444444,
              "#bd3786"
             ],
             [
              0.5555555555555556,
              "#d8576b"
             ],
             [
              0.6666666666666666,
              "#ed7953"
             ],
             [
              0.7777777777777778,
              "#fb9f3a"
             ],
             [
              0.8888888888888888,
              "#fdca26"
             ],
             [
              1,
              "#f0f921"
             ]
            ],
            "type": "contour"
           }
          ],
          "contourcarpet": [
           {
            "colorbar": {
             "outlinewidth": 0,
             "ticks": ""
            },
            "type": "contourcarpet"
           }
          ],
          "heatmap": [
           {
            "colorbar": {
             "outlinewidth": 0,
             "ticks": ""
            },
            "colorscale": [
             [
              0,
              "#0d0887"
             ],
             [
              0.1111111111111111,
              "#46039f"
             ],
             [
              0.2222222222222222,
              "#7201a8"
             ],
             [
              0.3333333333333333,
              "#9c179e"
             ],
             [
              0.4444444444444444,
              "#bd3786"
             ],
             [
              0.5555555555555556,
              "#d8576b"
             ],
             [
              0.6666666666666666,
              "#ed7953"
             ],
             [
              0.7777777777777778,
              "#fb9f3a"
             ],
             [
              0.8888888888888888,
              "#fdca26"
             ],
             [
              1,
              "#f0f921"
             ]
            ],
            "type": "heatmap"
           }
          ],
          "heatmapgl": [
           {
            "colorbar": {
             "outlinewidth": 0,
             "ticks": ""
            },
            "colorscale": [
             [
              0,
              "#0d0887"
             ],
             [
              0.1111111111111111,
              "#46039f"
             ],
             [
              0.2222222222222222,
              "#7201a8"
             ],
             [
              0.3333333333333333,
              "#9c179e"
             ],
             [
              0.4444444444444444,
              "#bd3786"
             ],
             [
              0.5555555555555556,
              "#d8576b"
             ],
             [
              0.6666666666666666,
              "#ed7953"
             ],
             [
              0.7777777777777778,
              "#fb9f3a"
             ],
             [
              0.8888888888888888,
              "#fdca26"
             ],
             [
              1,
              "#f0f921"
             ]
            ],
            "type": "heatmapgl"
           }
          ],
          "histogram": [
           {
            "marker": {
             "pattern": {
              "fillmode": "overlay",
              "size": 10,
              "solidity": 0.2
             }
            },
            "type": "histogram"
           }
          ],
          "histogram2d": [
           {
            "colorbar": {
             "outlinewidth": 0,
             "ticks": ""
            },
            "colorscale": [
             [
              0,
              "#0d0887"
             ],
             [
              0.1111111111111111,
              "#46039f"
             ],
             [
              0.2222222222222222,
              "#7201a8"
             ],
             [
              0.3333333333333333,
              "#9c179e"
             ],
             [
              0.4444444444444444,
              "#bd3786"
             ],
             [
              0.5555555555555556,
              "#d8576b"
             ],
             [
              0.6666666666666666,
              "#ed7953"
             ],
             [
              0.7777777777777778,
              "#fb9f3a"
             ],
             [
              0.8888888888888888,
              "#fdca26"
             ],
             [
              1,
              "#f0f921"
             ]
            ],
            "type": "histogram2d"
           }
          ],
          "histogram2dcontour": [
           {
            "colorbar": {
             "outlinewidth": 0,
             "ticks": ""
            },
            "colorscale": [
             [
              0,
              "#0d0887"
             ],
             [
              0.1111111111111111,
              "#46039f"
             ],
             [
              0.2222222222222222,
              "#7201a8"
             ],
             [
              0.3333333333333333,
              "#9c179e"
             ],
             [
              0.4444444444444444,
              "#bd3786"
             ],
             [
              0.5555555555555556,
              "#d8576b"
             ],
             [
              0.6666666666666666,
              "#ed7953"
             ],
             [
              0.7777777777777778,
              "#fb9f3a"
             ],
             [
              0.8888888888888888,
              "#fdca26"
             ],
             [
              1,
              "#f0f921"
             ]
            ],
            "type": "histogram2dcontour"
           }
          ],
          "mesh3d": [
           {
            "colorbar": {
             "outlinewidth": 0,
             "ticks": ""
            },
            "type": "mesh3d"
           }
          ],
          "parcoords": [
           {
            "line": {
             "colorbar": {
              "outlinewidth": 0,
              "ticks": ""
             }
            },
            "type": "parcoords"
           }
          ],
          "pie": [
           {
            "automargin": true,
            "type": "pie"
           }
          ],
          "scatter": [
           {
            "marker": {
             "colorbar": {
              "outlinewidth": 0,
              "ticks": ""
             }
            },
            "type": "scatter"
           }
          ],
          "scatter3d": [
           {
            "line": {
             "colorbar": {
              "outlinewidth": 0,
              "ticks": ""
             }
            },
            "marker": {
             "colorbar": {
              "outlinewidth": 0,
              "ticks": ""
             }
            },
            "type": "scatter3d"
           }
          ],
          "scattercarpet": [
           {
            "marker": {
             "colorbar": {
              "outlinewidth": 0,
              "ticks": ""
             }
            },
            "type": "scattercarpet"
           }
          ],
          "scattergeo": [
           {
            "marker": {
             "colorbar": {
              "outlinewidth": 0,
              "ticks": ""
             }
            },
            "type": "scattergeo"
           }
          ],
          "scattergl": [
           {
            "marker": {
             "colorbar": {
              "outlinewidth": 0,
              "ticks": ""
             }
            },
            "type": "scattergl"
           }
          ],
          "scattermapbox": [
           {
            "marker": {
             "colorbar": {
              "outlinewidth": 0,
              "ticks": ""
             }
            },
            "type": "scattermapbox"
           }
          ],
          "scatterpolar": [
           {
            "marker": {
             "colorbar": {
              "outlinewidth": 0,
              "ticks": ""
             }
            },
            "type": "scatterpolar"
           }
          ],
          "scatterpolargl": [
           {
            "marker": {
             "colorbar": {
              "outlinewidth": 0,
              "ticks": ""
             }
            },
            "type": "scatterpolargl"
           }
          ],
          "scatterternary": [
           {
            "marker": {
             "colorbar": {
              "outlinewidth": 0,
              "ticks": ""
             }
            },
            "type": "scatterternary"
           }
          ],
          "surface": [
           {
            "colorbar": {
             "outlinewidth": 0,
             "ticks": ""
            },
            "colorscale": [
             [
              0,
              "#0d0887"
             ],
             [
              0.1111111111111111,
              "#46039f"
             ],
             [
              0.2222222222222222,
              "#7201a8"
             ],
             [
              0.3333333333333333,
              "#9c179e"
             ],
             [
              0.4444444444444444,
              "#bd3786"
             ],
             [
              0.5555555555555556,
              "#d8576b"
             ],
             [
              0.6666666666666666,
              "#ed7953"
             ],
             [
              0.7777777777777778,
              "#fb9f3a"
             ],
             [
              0.8888888888888888,
              "#fdca26"
             ],
             [
              1,
              "#f0f921"
             ]
            ],
            "type": "surface"
           }
          ],
          "table": [
           {
            "cells": {
             "fill": {
              "color": "#EBF0F8"
             },
             "line": {
              "color": "white"
             }
            },
            "header": {
             "fill": {
              "color": "#C8D4E3"
             },
             "line": {
              "color": "white"
             }
            },
            "type": "table"
           }
          ]
         },
         "layout": {
          "annotationdefaults": {
           "arrowcolor": "#2a3f5f",
           "arrowhead": 0,
           "arrowwidth": 1
          },
          "autotypenumbers": "strict",
          "coloraxis": {
           "colorbar": {
            "outlinewidth": 0,
            "ticks": ""
           }
          },
          "colorscale": {
           "diverging": [
            [
             0,
             "#8e0152"
            ],
            [
             0.1,
             "#c51b7d"
            ],
            [
             0.2,
             "#de77ae"
            ],
            [
             0.3,
             "#f1b6da"
            ],
            [
             0.4,
             "#fde0ef"
            ],
            [
             0.5,
             "#f7f7f7"
            ],
            [
             0.6,
             "#e6f5d0"
            ],
            [
             0.7,
             "#b8e186"
            ],
            [
             0.8,
             "#7fbc41"
            ],
            [
             0.9,
             "#4d9221"
            ],
            [
             1,
             "#276419"
            ]
           ],
           "sequential": [
            [
             0,
             "#0d0887"
            ],
            [
             0.1111111111111111,
             "#46039f"
            ],
            [
             0.2222222222222222,
             "#7201a8"
            ],
            [
             0.3333333333333333,
             "#9c179e"
            ],
            [
             0.4444444444444444,
             "#bd3786"
            ],
            [
             0.5555555555555556,
             "#d8576b"
            ],
            [
             0.6666666666666666,
             "#ed7953"
            ],
            [
             0.7777777777777778,
             "#fb9f3a"
            ],
            [
             0.8888888888888888,
             "#fdca26"
            ],
            [
             1,
             "#f0f921"
            ]
           ],
           "sequentialminus": [
            [
             0,
             "#0d0887"
            ],
            [
             0.1111111111111111,
             "#46039f"
            ],
            [
             0.2222222222222222,
             "#7201a8"
            ],
            [
             0.3333333333333333,
             "#9c179e"
            ],
            [
             0.4444444444444444,
             "#bd3786"
            ],
            [
             0.5555555555555556,
             "#d8576b"
            ],
            [
             0.6666666666666666,
             "#ed7953"
            ],
            [
             0.7777777777777778,
             "#fb9f3a"
            ],
            [
             0.8888888888888888,
             "#fdca26"
            ],
            [
             1,
             "#f0f921"
            ]
           ]
          },
          "colorway": [
           "#636efa",
           "#EF553B",
           "#00cc96",
           "#ab63fa",
           "#FFA15A",
           "#19d3f3",
           "#FF6692",
           "#B6E880",
           "#FF97FF",
           "#FECB52"
          ],
          "font": {
           "color": "#2a3f5f"
          },
          "geo": {
           "bgcolor": "white",
           "lakecolor": "white",
           "landcolor": "#E5ECF6",
           "showlakes": true,
           "showland": true,
           "subunitcolor": "white"
          },
          "hoverlabel": {
           "align": "left"
          },
          "hovermode": "closest",
          "mapbox": {
           "style": "light"
          },
          "paper_bgcolor": "white",
          "plot_bgcolor": "#E5ECF6",
          "polar": {
           "angularaxis": {
            "gridcolor": "white",
            "linecolor": "white",
            "ticks": ""
           },
           "bgcolor": "#E5ECF6",
           "radialaxis": {
            "gridcolor": "white",
            "linecolor": "white",
            "ticks": ""
           }
          },
          "scene": {
           "xaxis": {
            "backgroundcolor": "#E5ECF6",
            "gridcolor": "white",
            "gridwidth": 2,
            "linecolor": "white",
            "showbackground": true,
            "ticks": "",
            "zerolinecolor": "white"
           },
           "yaxis": {
            "backgroundcolor": "#E5ECF6",
            "gridcolor": "white",
            "gridwidth": 2,
            "linecolor": "white",
            "showbackground": true,
            "ticks": "",
            "zerolinecolor": "white"
           },
           "zaxis": {
            "backgroundcolor": "#E5ECF6",
            "gridcolor": "white",
            "gridwidth": 2,
            "linecolor": "white",
            "showbackground": true,
            "ticks": "",
            "zerolinecolor": "white"
           }
          },
          "shapedefaults": {
           "line": {
            "color": "#2a3f5f"
           }
          },
          "ternary": {
           "aaxis": {
            "gridcolor": "white",
            "linecolor": "white",
            "ticks": ""
           },
           "baxis": {
            "gridcolor": "white",
            "linecolor": "white",
            "ticks": ""
           },
           "bgcolor": "#E5ECF6",
           "caxis": {
            "gridcolor": "white",
            "linecolor": "white",
            "ticks": ""
           }
          },
          "title": {
           "x": 0.05
          },
          "xaxis": {
           "automargin": true,
           "gridcolor": "white",
           "linecolor": "white",
           "ticks": "",
           "title": {
            "standoff": 15
           },
           "zerolinecolor": "white",
           "zerolinewidth": 2
          },
          "yaxis": {
           "automargin": true,
           "gridcolor": "white",
           "linecolor": "white",
           "ticks": "",
           "title": {
            "standoff": 15
           },
           "zerolinecolor": "white",
           "zerolinewidth": 2
          }
         }
        },
        "title": {
         "text": "Guam Exports (2020) - Total Value: $33M"
        }
       }
      },
      "image/png": "[encoded data removed]",
      "text/html": [
       "<div>                            <div id=\"c25ccc98-bf02-4496-a5d1-b74e35dbbf05\" class=\"plotly-graph-div\" style=\"height:800px; width:100%;\"></div>            <script type=\"text/javascript\">                require([\"plotly\"], function(Plotly) {                    window.PLOTLYENV=window.PLOTLYENV || {};                                    if (document.getElementById(\"c25ccc98-bf02-4496-a5d1-b74e35dbbf05\")) {                    Plotly.newPlot(                        \"c25ccc98-bf02-4496-a5d1-b74e35dbbf05\",                        [{\"branchvalues\":\"total\",\"domain\":{\"x\":[0.0,1.0],\"y\":[0.0,1.0]},\"hovertemplate\":\"labels=%{label}<br>value=%{value}<br>parent=%{parent}<br>id=%{id}<extra></extra>\",\"ids\":[\"Aircraft, spacecraft and parts thereof/Aircraft\",\"Aluminium and articles thereof/Aluminium\",\"Copper and articles thereof/Copper\",\"Essential oils and resinoids/Cosmetic and toilet preparations\",\"Iron and steel/Ferrous waste and scrap\",\"Footwear/Footwear\",\"Apparel and clothing accessories/Jerseys, pullovers, cardigans, waistcoats and similar articles\",\"Natural, cultured pearls/Jewellery articles and parts thereof, of precious metal or of metal clad with precious metal\",\"Optical, photographic, cinematographic, measuring, checking, medical or surgical instruments and apparatus/Measuring or checking instruments, appliances and machines, n.e.s. or included in this chapter\",\"Rubber and articles thereof/Natural rubber, balata, gutta-percha, guayule, chicle and similar gums\",\"Coffee, tea, mate and spices/Nutmeg, mace and cardamoms\",\"Essential oils and resinoids/Perfumes and toilet waters\",\"Mineral fuels, mineral oils and products of their distillation/Petroleum oils, oils from bituminous minerals, not crude\",\"Apparel and clothing accessories/Shirts\",\"Iron or steel articles/Structures of iron or steel and parts thereof\",\"Apparel and clothing accessories/Suits, ensembles, jackets, blazers, trousers, bib and brace overalls, breeches and shorts (other than swimwear)\",\"Apparel and clothing accessories/Track suits, swimwear and other garments (not knitted or crocheted)\",\"Articles of leather/Trunks\",\"Clocks and watches and parts thereof/Wrist-watches, pocket-watches, stop-watches and other watches\",\"Clocks and watches and parts thereof/Wrist-watches, pocket-watches, stop-watches and other watches, other than those of heading no. 9101\",\"Aircraft, spacecraft and parts thereof\",\"Aluminium and articles thereof\",\"Apparel and clothing accessories\",\"Articles of leather\",\"Clocks and watches and parts thereof\",\"Coffee, tea, mate and spices\",\"Copper and articles thereof\",\"Essential oils and resinoids\",\"Footwear\",\"Iron and steel\",\"Iron or steel articles\",\"Mineral fuels, mineral oils and products of their distillation\",\"Natural, cultured pearls\",\"Optical, photographic, cinematographic, measuring, checking, medical or surgical instruments and apparatus\",\"Rubber and articles thereof\"],\"labels\":[\"Aircraft\",\"Aluminium\",\"Copper\",\"Cosmetic and toilet preparations\",\"Ferrous waste and scrap\",\"Footwear\",\"Jerseys, pullovers, cardigans, waistcoats and similar articles\",\"Jewellery articles and parts thereof, of precious metal or of metal clad with precious metal\",\"Measuring or checking instruments, appliances and machines, n.e.s. or included in this chapter\",\"Natural rubber, balata, gutta-percha, guayule, chicle and similar gums\",\"Nutmeg, mace and cardamoms\",\"Perfumes and toilet waters\",\"Petroleum oils, oils from bituminous minerals, not crude\",\"Shirts\",\"Structures of iron or steel and parts thereof\",\"Suits, ensembles, jackets, blazers, trousers, bib and brace overalls, breeches and shorts (other than swimwear)\",\"Track suits, swimwear and other garments (not knitted or crocheted)\",\"Trunks\",\"Wrist-watches, pocket-watches, stop-watches and other watches\",\"Wrist-watches, pocket-watches, stop-watches and other watches, other than those of heading no. 9101\",\"Aircraft, spacecraft and parts thereof\",\"Aluminium and articles thereof\",\"Apparel and clothing accessories\",\"Articles of leather\",\"Clocks and watches and parts thereof\",\"Coffee, tea, mate and spices\",\"Copper and articles thereof\",\"Essential oils and resinoids\",\"Footwear\",\"Iron and steel\",\"Iron or steel articles\",\"Mineral fuels, mineral oils and products of their distillation\",\"Natural, cultured pearls\",\"Optical, photographic, cinematographic, measuring, checking, medical or surgical instruments and apparatus\",\"Rubber and articles thereof\"],\"name\":\"\",\"parents\":[\"Aircraft, spacecraft and parts thereof\",\"Aluminium and articles thereof\",\"Copper and articles thereof\",\"Essential oils and resinoids\",\"Iron and steel\",\"Footwear\",\"Apparel and clothing accessories\",\"Natural, cultured pearls\",\"Optical, photographic, cinematographic, measuring, checking, medical or surgical instruments and apparatus\",\"Rubber and articles thereof\",\"Coffee, tea, mate and spices\",\"Essential oils and resinoids\",\"Mineral fuels, mineral oils and products of their distillation\",\"Apparel and clothing accessories\",\"Iron or steel articles\",\"Apparel and clothing accessories\",\"Apparel and clothing accessories\",\"Articles of leather\",\"Clocks and watches and parts thereof\",\"Clocks and watches and parts thereof\",\"\",\"\",\"\",\"\",\"\",\"\",\"\",\"\",\"\",\"\",\"\",\"\",\"\",\"\",\"\"],\"values\":[176.52100000000002,534.2570000000001,1678.106,2726.9840000000004,3027.478,539.399,202.128,3024.3840000000005,212.743,528.767,467.168,244.51600000000002,334.565,125.654,512.6750000000001,671.8100000000001,245.591,7321.045,165.45499999999998,8484.052,176.52100000000002,534.2570000000001,1245.183,7321.045,8649.507,467.168,1678.106,2971.5000000000005,539.399,3027.478,512.6750000000001,334.565,3024.3840000000005,212.743,528.767],\"type\":\"treemap\",\"root\":{\"color\":\"lightgrey\"},\"textinfo\":\"label+percent root\"}],                        {\"template\":{\"data\":{\"bar\":[{\"error_x\":{\"color\":\"#2a3f5f\"},\"error_y\":{\"color\":\"#2a3f5f\"},\"marker\":{\"line\":{\"color\":\"#E5ECF6\",\"width\":0.5},\"pattern\":{\"fillmode\":\"overlay\",\"size\":10,\"solidity\":0.2}},\"type\":\"bar\"}],\"barpolar\":[{\"marker\":{\"line\":{\"color\":\"#E5ECF6\",\"width\":0.5},\"pattern\":{\"fillmode\":\"overlay\",\"size\":10,\"solidity\":0.2}},\"type\":\"barpolar\"}],\"carpet\":[{\"aaxis\":{\"endlinecolor\":\"#2a3f5f\",\"gridcolor\":\"white\",\"linecolor\":\"white\",\"minorgridcolor\":\"white\",\"startlinecolor\":\"#2a3f5f\"},\"baxis\":{\"endlinecolor\":\"#2a3f5f\",\"gridcolor\":\"white\",\"linecolor\":\"white\",\"minorgridcolor\":\"white\",\"startlinecolor\":\"#2a3f5f\"},\"type\":\"carpet\"}],\"choropleth\":[{\"colorbar\":{\"outlinewidth\":0,\"ticks\":\"\"},\"type\":\"choropleth\"}],\"contour\":[{\"colorbar\":{\"outlinewidth\":0,\"ticks\":\"\"},\"colorscale\":[[0.0,\"#0d0887\"],[0.1111111111111111,\"#46039f\"],[0.2222222222222222,\"#7201a8\"],[0.3333333333333333,\"#9c179e\"],[0.4444444444444444,\"#bd3786\"],[0.5555555555555556,\"#d8576b\"],[0.6666666666666666,\"#ed7953\"],[0.7777777777777778,\"#fb9f3a\"],[0.8888888888888888,\"#fdca26\"],[1.0,\"#f0f921\"]],\"type\":\"contour\"}],\"contourcarpet\":[{\"colorbar\":{\"outlinewidth\":0,\"ticks\":\"\"},\"type\":\"contourcarpet\"}],\"heatmap\":[{\"colorbar\":{\"outlinewidth\":0,\"ticks\":\"\"},\"colorscale\":[[0.0,\"#0d0887\"],[0.1111111111111111,\"#46039f\"],[0.2222222222222222,\"#7201a8\"],[0.3333333333333333,\"#9c179e\"],[0.4444444444444444,\"#bd3786\"],[0.5555555555555556,\"#d8576b\"],[0.6666666666666666,\"#ed7953\"],[0.7777777777777778,\"#fb9f3a\"],[0.8888888888888888,\"#fdca26\"],[1.0,\"#f0f921\"]],\"type\":\"heatmap\"}],\"heatmapgl\":[{\"colorbar\":{\"outlinewidth\":0,\"ticks\":\"\"},\"colorscale\":[[0.0,\"#0d0887\"],[0.1111111111111111,\"#46039f\"],[0.2222222222222222,\"#7201a8\"],[0.3333333333333333,\"#9c179e\"],[0.4444444444444444,\"#bd3786\"],[0.5555555555555556,\"#d8576b\"],[0.6666666666666666,\"#ed7953\"],[0.7777777777777778,\"#fb9f3a\"],[0.8888888888888888,\"#fdca26\"],[1.0,\"#f0f921\"]],\"type\":\"heatmapgl\"}],\"histogram\":[{\"marker\":{\"pattern\":{\"fillmode\":\"overlay\",\"size\":10,\"solidity\":0.2}},\"type\":\"histogram\"}],\"histogram2d\":[{\"colorbar\":{\"outlinewidth\":0,\"ticks\":\"\"},\"colorscale\":[[0.0,\"#0d0887\"],[0.1111111111111111,\"#46039f\"],[0.2222222222222222,\"#7201a8\"],[0.3333333333333333,\"#9c179e\"],[0.4444444444444444,\"#bd3786\"],[0.5555555555555556,\"#d8576b\"],[0.6666666666666666,\"#ed7953\"],[0.7777777777777778,\"#fb9f3a\"],[0.8888888888888888,\"#fdca26\"],[1.0,\"#f0f921\"]],\"type\":\"histogram2d\"}],\"histogram2dcontour\":[{\"colorbar\":{\"outlinewidth\":0,\"ticks\":\"\"},\"colorscale\":[[0.0,\"#0d0887\"],[0.1111111111111111,\"#46039f\"],[0.2222222222222222,\"#7201a8\"],[0.3333333333333333,\"#9c179e\"],[0.4444444444444444,\"#bd3786\"],[0.5555555555555556,\"#d8576b\"],[0.6666666666666666,\"#ed7953\"],[0.7777777777777778,\"#fb9f3a\"],[0.8888888888888888,\"#fdca26\"],[1.0,\"#f0f921\"]],\"type\":\"histogram2dcontour\"}],\"mesh3d\":[{\"colorbar\":{\"outlinewidth\":0,\"ticks\":\"\"},\"type\":\"mesh3d\"}],\"parcoords\":[{\"line\":{\"colorbar\":{\"outlinewidth\":0,\"ticks\":\"\"}},\"type\":\"parcoords\"}],\"pie\":[{\"automargin\":true,\"type\":\"pie\"}],\"scatter\":[{\"marker\":{\"colorbar\":{\"outlinewidth\":0,\"ticks\":\"\"}},\"type\":\"scatter\"}],\"scatter3d\":[{\"line\":{\"colorbar\":{\"outlinewidth\":0,\"ticks\":\"\"}},\"marker\":{\"colorbar\":{\"outlinewidth\":0,\"ticks\":\"\"}},\"type\":\"scatter3d\"}],\"scattercarpet\":[{\"marker\":{\"colorbar\":{\"outlinewidth\":0,\"ticks\":\"\"}},\"type\":\"scattercarpet\"}],\"scattergeo\":[{\"marker\":{\"colorbar\":{\"outlinewidth\":0,\"ticks\":\"\"}},\"type\":\"scattergeo\"}],\"scattergl\":[{\"marker\":{\"colorbar\":{\"outlinewidth\":0,\"ticks\":\"\"}},\"type\":\"scattergl\"}],\"scattermapbox\":[{\"marker\":{\"colorbar\":{\"outlinewidth\":0,\"ticks\":\"\"}},\"type\":\"scattermapbox\"}],\"scatterpolar\":[{\"marker\":{\"colorbar\":{\"outlinewidth\":0,\"ticks\":\"\"}},\"type\":\"scatterpolar\"}],\"scatterpolargl\":[{\"marker\":{\"colorbar\":{\"outlinewidth\":0,\"ticks\":\"\"}},\"type\":\"scatterpolargl\"}],\"scatterternary\":[{\"marker\":{\"colorbar\":{\"outlinewidth\":0,\"ticks\":\"\"}},\"type\":\"scatterternary\"}],\"surface\":[{\"colorbar\":{\"outlinewidth\":0,\"ticks\":\"\"},\"colorscale\":[[0.0,\"#0d0887\"],[0.1111111111111111,\"#46039f\"],[0.2222222222222222,\"#7201a8\"],[0.3333333333333333,\"#9c179e\"],[0.4444444444444444,\"#bd3786\"],[0.5555555555555556,\"#d8576b\"],[0.6666666666666666,\"#ed7953\"],[0.7777777777777778,\"#fb9f3a\"],[0.8888888888888888,\"#fdca26\"],[1.0,\"#f0f921\"]],\"type\":\"surface\"}],\"table\":[{\"cells\":{\"fill\":{\"color\":\"#EBF0F8\"},\"line\":{\"color\":\"white\"}},\"header\":{\"fill\":{\"color\":\"#C8D4E3\"},\"line\":{\"color\":\"white\"}},\"type\":\"table\"}]},\"layout\":{\"annotationdefaults\":{\"arrowcolor\":\"#2a3f5f\",\"arrowhead\":0,\"arrowwidth\":1},\"autotypenumbers\":\"strict\",\"coloraxis\":{\"colorbar\":{\"outlinewidth\":0,\"ticks\":\"\"}},\"colorscale\":{\"diverging\":[[0,\"#8e0152\"],[0.1,\"#c51b7d\"],[0.2,\"#de77ae\"],[0.3,\"#f1b6da\"],[0.4,\"#fde0ef\"],[0.5,\"#f7f7f7\"],[0.6,\"#e6f5d0\"],[0.7,\"#b8e186\"],[0.8,\"#7fbc41\"],[0.9,\"#4d9221\"],[1,\"#276419\"]],\"sequential\":[[0.0,\"#0d0887\"],[0.1111111111111111,\"#46039f\"],[0.2222222222222222,\"#7201a8\"],[0.3333333333333333,\"#9c179e\"],[0.4444444444444444,\"#bd3786\"],[0.5555555555555556,\"#d8576b\"],[0.6666666666666666,\"#ed7953\"],[0.7777777777777778,\"#fb9f3a\"],[0.8888888888888888,\"#fdca26\"],[1.0,\"#f0f921\"]],\"sequentialminus\":[[0.0,\"#0d0887\"],[0.1111111111111111,\"#46039f\"],[0.2222222222222222,\"#7201a8\"],[0.3333333333333333,\"#9c179e\"],[0.4444444444444444,\"#bd3786\"],[0.5555555555555556,\"#d8576b\"],[0.6666666666666666,\"#ed7953\"],[0.7777777777777778,\"#fb9f3a\"],[0.8888888888888888,\"#fdca26\"],[1.0,\"#f0f921\"]]},\"colorway\":[\"#636efa\",\"#EF553B\",\"#00cc96\",\"#ab63fa\",\"#FFA15A\",\"#19d3f3\",\"#FF6692\",\"#B6E880\",\"#FF97FF\",\"#FECB52\"],\"font\":{\"color\":\"#2a3f5f\"},\"geo\":{\"bgcolor\":\"white\",\"lakecolor\":\"white\",\"landcolor\":\"#E5ECF6\",\"showlakes\":true,\"showland\":true,\"subunitcolor\":\"white\"},\"hoverlabel\":{\"align\":\"left\"},\"hovermode\":\"closest\",\"mapbox\":{\"style\":\"light\"},\"paper_bgcolor\":\"white\",\"plot_bgcolor\":\"#E5ECF6\",\"polar\":{\"angularaxis\":{\"gridcolor\":\"white\",\"linecolor\":\"white\",\"ticks\":\"\"},\"bgcolor\":\"#E5ECF6\",\"radialaxis\":{\"gridcolor\":\"white\",\"linecolor\":\"white\",\"ticks\":\"\"}},\"scene\":{\"xaxis\":{\"backgroundcolor\":\"#E5ECF6\",\"gridcolor\":\"white\",\"gridwidth\":2,\"linecolor\":\"white\",\"showbackground\":true,\"ticks\":\"\",\"zerolinecolor\":\"white\"},\"yaxis\":{\"backgroundcolor\":\"#E5ECF6\",\"gridcolor\":\"white\",\"gridwidth\":2,\"linecolor\":\"white\",\"showbackground\":true,\"ticks\":\"\",\"zerolinecolor\":\"white\"},\"zaxis\":{\"backgroundcolor\":\"#E5ECF6\",\"gridcolor\":\"white\",\"gridwidth\":2,\"linecolor\":\"white\",\"showbackground\":true,\"ticks\":\"\",\"zerolinecolor\":\"white\"}},\"shapedefaults\":{\"line\":{\"color\":\"#2a3f5f\"}},\"ternary\":{\"aaxis\":{\"gridcolor\":\"white\",\"linecolor\":\"white\",\"ticks\":\"\"},\"baxis\":{\"gridcolor\":\"white\",\"linecolor\":\"white\",\"ticks\":\"\"},\"bgcolor\":\"#E5ECF6\",\"caxis\":{\"gridcolor\":\"white\",\"linecolor\":\"white\",\"ticks\":\"\"}},\"title\":{\"x\":0.05},\"xaxis\":{\"automargin\":true,\"gridcolor\":\"white\",\"linecolor\":\"white\",\"ticks\":\"\",\"title\":{\"standoff\":15},\"zerolinecolor\":\"white\",\"zerolinewidth\":2},\"yaxis\":{\"automargin\":true,\"gridcolor\":\"white\",\"linecolor\":\"white\",\"ticks\":\"\",\"title\":{\"standoff\":15},\"zerolinecolor\":\"white\",\"zerolinewidth\":2}}},\"legend\":{\"tracegroupgap\":0},\"margin\":{\"t\":50,\"l\":25,\"r\":25,\"b\":25},\"font\":{\"size\":20},\"title\":{\"text\":\"Guam Exports (2020) - Total Value: $33M\"},\"height\":800},                        {\"responsive\": true}                    ).then(function(){\n",
       "                            \n",
       "var gd = document.getElementById('c25ccc98-bf02-4496-a5d1-b74e35dbbf05');\n",
       "var x = new MutationObserver(function (mutations, observer) {{\n",
       "        var display = window.getComputedStyle(gd).display;\n",
       "        if (!display || display === 'none') {{\n",
       "            console.log([gd, 'removed!']);\n",
       "            Plotly.purge(gd);\n",
       "            observer.disconnect();\n",
       "        }}\n",
       "}});\n",
       "\n",
       "// Listen for the removal of the full notebook cells\n",
       "var notebookContainer = gd.closest('#notebook-container');\n",
       "if (notebookContainer) {{\n",
       "    x.observe(notebookContainer, {childList: true});\n",
       "}}\n",
       "\n",
       "// Listen for the clearing of the current output cell\n",
       "var outputEl = gd.closest('.output');\n",
       "if (outputEl) {{\n",
       "    x.observe(outputEl, {childList: true});\n",
       "}}\n",
       "\n",
       "                        })                };                });            </script>        </div>"
      ]
     },
     "metadata": {},
     "output_type": "display_data"
    }
   ],
   "source": [
    "import plotly.express as px\n",
    "\n",
    "fig = px.treemap(export_df, \n",
    "                 path=['parent', 'product'],\n",
    "                 values='value')\n",
    "fig.update_traces(root_color='lightgrey',\n",
    "                  textinfo='label+percent root')\n",
    "fig.update_layout(margin = dict(t=50, l=25, r=25, b=25),\n",
    "                  font_size=20,\n",
    "                  title = dict(text=f'Guam Exports (2020) - Total Value: ${total_exports_M}M'),\n",
    "                  height = 800)\n",
    "fig.show()"
   ]
  },
  {
   "cell_type": "code",
   "execution_count": null,
   "id": "f6d4630b-f538-4fb4-9549-92c0a0b954ff",
   "metadata": {},
   "outputs": [],
   "source": []
  }
 ],
 "metadata": {
  "kernelspec": {
   "display_name": "Python 3 (ipykernel)",
   "language": "python",
   "name": "python3"
  },
  "language_info": {
   "codemirror_mode": {
    "name": "ipython",
    "version": 3
   },
   "file_extension": ".py",
   "mimetype": "text/x-python",
   "name": "python",
   "nbconvert_exporter": "python",
   "pygments_lexer": "ipython3",
   "version": "3.10.1"
  }
 },
 "nbformat": 4,
 "nbformat_minor": 5
}
