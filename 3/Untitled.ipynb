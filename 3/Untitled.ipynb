{
 "cells": [
  {
   "cell_type": "markdown",
   "id": "b9b5e77f",
   "metadata": {},
   "source": [
    "# Day 3 - Comparisons: Historical\n",
    "\n",
    "Tourism is one of the largest industries on Guam, with most tourists traveling from East Asia to Guam for vacation. Several world events and larger economic trends have changed Guam's tourist flow significantly in the last two decades.\n",
    "\n",
    "## Data\n",
    "\n",
    "Visitor data is collected via customs forms and consolidated via the Guam Visitors Bureau. Although there isn't a single source of data, a collective view of the monthly visitors and their home countries can be compiled via Guam [Statistical Yearbooks](https://bsp.guam.gov/guam-statistical-yearbook-2/) and the monthly [Preliminary Arrival Summaries](https://www.guamvisitorsbureau.com/research/statistics/visitor-arrival-statistics).\n",
    "\n",
    "Monthly tourist arrivals categorized by country of origin from January 2005 until December 2021 have been collected in a CSV file located in this folder.\n"
   ]
  },
  {
   "cell_type": "code",
   "execution_count": null,
   "id": "a2189e6d",
   "metadata": {},
   "outputs": [],
   "source": [
    "import pandas as pd\n",
    "\n",
    "with open('guam_2010_census.csv', 'r') as f:\n",
    "    df = pd.read_csv(f, index_col='Month')"
   ]
  }
 ],
 "metadata": {
  "kernelspec": {
   "display_name": "Python 3 (ipykernel)",
   "language": "python",
   "name": "python3"
  },
  "language_info": {
   "codemirror_mode": {
    "name": "ipython",
    "version": 3
   },
   "file_extension": ".py",
   "mimetype": "text/x-python",
   "name": "python",
   "nbconvert_exporter": "python",
   "pygments_lexer": "ipython3",
   "version": "3.10.1"
  }
 },
 "nbformat": 4,
 "nbformat_minor": 5
}
